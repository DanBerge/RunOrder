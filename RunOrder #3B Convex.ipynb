{
 "cells": [
  {
   "cell_type": "code",
   "execution_count": 1,
   "metadata": {},
   "outputs": [
    {
     "data": {
      "text/plain": [
       "rungroup (generic function with 1 method)"
      ]
     },
     "execution_count": 1,
     "metadata": {},
     "output_type": "execute_result"
    }
   ],
   "source": [
    "using DataFrames, CSV, Query #Data handling\n",
    "using Convex, GLPKMathProgInterface # Optimization tools\n",
    "\n",
    "fn = \"MOWOG1entries.csv\"\n",
    "c1_list=[\"AS\", \"BS\", \"CS\", \"DS\", \"ES\", \"FS\", \"GS\", \"HS\",\"SS\",\"SSR\"] # Combined 1 classes\n",
    "_fill_empty_classes = true\n",
    "_run_groups = 2 #Number of run groups for the event\n",
    "_max_to_bump = 4 #Maximum number of entrants in the class that will still be bumped to combined\n",
    "_max_driver_diff = 4 #Maximum difference in number of drivers per run group\n",
    "_max_novice_diff = 5 #Maximum difference in number of novice drivers per run group\n",
    "_show_empty_classes = true\n",
    "\n",
    "#Distribute an integer over N integer parts\n",
    "function distribute_int(a::T,n::T) where {T<:Integer}\n",
    "    (num,den) = divrem(a,n)\n",
    "    [ifelse(i<=den,num+1,num) for i=1:n]\n",
    "end\n",
    "@assert distribute_int(10,3)==[4,3,3]\n",
    "\n",
    "function index_class(a::T) where {T<:DataFrameRow}\n",
    "    if ismissing(a[:Index])\n",
    "        if a[:Class]==\"N\"\n",
    "            'N'*a[:LastName][1] |> String\n",
    "        else\n",
    "            a[:Class] |> String\n",
    "        end\n",
    "    else\n",
    "        a[:Index] |> String\n",
    "    end\n",
    "end\n",
    "\n",
    "function rungroup(a::Convex.AbstractExprOrValue,df::DataFrame, n::Integer)\n",
    "    @assert n<=size(a,2)\n",
    "    A = evaluate(a[:,n]) .≈ 1.0\n",
    "    novice_ind = A .& df[:Novice]\n",
    "    n1 = findfirst(novice_ind) |> i->df[i,:Class][2]\n",
    "    n2 = findlast(novice_ind) |> i->df[i,:Class][2]\n",
    "    ind = A .& .!(df[:Novice]) |> find\n",
    "    y=df[ind,:Class]\n",
    "    push!(y,\"Novice $n1-$n2\")\n",
    "end"
   ]
  },
  {
   "cell_type": "code",
   "execution_count": 2,
   "metadata": {},
   "outputs": [
    {
     "data": {
      "text/html": [
       "<table class=\"data-frame\"><thead><tr><th></th><th>Class</th><th>ClassGroup</th></tr></thead><tbody><tr><th>1</th><td>AS</td><td>Street</td></tr><tr><th>2</th><td>BS</td><td>Street</td></tr><tr><th>3</th><td>CS</td><td>Street</td></tr><tr><th>4</th><td>DS</td><td>Street</td></tr><tr><th>5</th><td>ES</td><td>Street</td></tr><tr><th>6</th><td>FS</td><td>Street</td></tr><tr><th>7</th><td>GS</td><td>Street</td></tr><tr><th>8</th><td>HS</td><td>Street</td></tr><tr><th>9</th><td>SS</td><td>Street</td></tr><tr><th>10</th><td>SSR</td><td>Street</td></tr><tr><th>11</th><td>AM</td><td>Modified</td></tr><tr><th>12</th><td>BM</td><td>Modified</td></tr><tr><th>13</th><td>CM</td><td>Modified</td></tr><tr><th>14</th><td>DM</td><td>Modified</td></tr><tr><th>15</th><td>EM</td><td>Modified</td></tr><tr><th>16</th><td>FM</td><td>Modified</td></tr><tr><th>17</th><td>KM</td><td>Modified</td></tr><tr><th>18</th><td>CP</td><td>Prepared</td></tr><tr><th>19</th><td>DP</td><td>Prepared</td></tr><tr><th>20</th><td>EP</td><td>Prepared</td></tr><tr><th>21</th><td>FP</td><td>Prepared</td></tr><tr><th>22</th><td>XP</td><td>Prepared</td></tr><tr><th>23</th><td>ASP</td><td>Street Prepared</td></tr><tr><th>24</th><td>BSP</td><td>Street Prepared</td></tr><tr><th>25</th><td>CSP</td><td>Street Prepared</td></tr><tr><th>26</th><td>DSP</td><td>Street Prepared</td></tr><tr><th>27</th><td>ESP</td><td>Street Prepared</td></tr><tr><th>28</th><td>FSP</td><td>Street Prepared</td></tr><tr><th>29</th><td>SSM</td><td>Street Modified</td></tr><tr><th>30</th><td>SM</td><td>Street Modified</td></tr><tr><th>&vellip;</th><td>&vellip;</td><td>&vellip;</td></tr></tbody></table>"
      ],
      "text/plain": [
       "66×2 DataFrames.DataFrame\n",
       "│ Row │ Class │ ClassGroup │\n",
       "├─────┼───────┼────────────┤\n",
       "│ 1   │ AS    │ Street     │\n",
       "│ 2   │ BS    │ Street     │\n",
       "│ 3   │ CS    │ Street     │\n",
       "│ 4   │ DS    │ Street     │\n",
       "│ 5   │ ES    │ Street     │\n",
       "│ 6   │ FS    │ Street     │\n",
       "│ 7   │ GS    │ Street     │\n",
       "│ 8   │ HS    │ Street     │\n",
       "│ 9   │ SS    │ Street     │\n",
       "│ 10  │ SSR   │ Street     │\n",
       "│ 11  │ AM    │ Modified   │\n",
       "⋮\n",
       "│ 55  │ NO    │ \u001b[90mmissing\u001b[39m    │\n",
       "│ 56  │ NP    │ \u001b[90mmissing\u001b[39m    │\n",
       "│ 57  │ NQ    │ \u001b[90mmissing\u001b[39m    │\n",
       "│ 58  │ NR    │ \u001b[90mmissing\u001b[39m    │\n",
       "│ 59  │ NS    │ \u001b[90mmissing\u001b[39m    │\n",
       "│ 60  │ NT    │ \u001b[90mmissing\u001b[39m    │\n",
       "│ 61  │ NU    │ \u001b[90mmissing\u001b[39m    │\n",
       "│ 62  │ NV    │ \u001b[90mmissing\u001b[39m    │\n",
       "│ 63  │ NW    │ \u001b[90mmissing\u001b[39m    │\n",
       "│ 64  │ NX    │ \u001b[90mmissing\u001b[39m    │\n",
       "│ 65  │ NY    │ \u001b[90mmissing\u001b[39m    │\n",
       "│ 66  │ NZ    │ \u001b[90mmissing\u001b[39m    │"
      ]
     },
     "execution_count": 2,
     "metadata": {},
     "output_type": "execute_result"
    }
   ],
   "source": [
    "if _show_empty_classes\n",
    "    df_classes=DataFrame(Class=copy(c1_list),ClassGroup=\"Street\")\n",
    "    append!(df_classes,DataFrame(Class=('A':'F').*'M',ClassGroup=\"Modified\"))\n",
    "    append!(df_classes,DataFrame(Class=\"KM\",ClassGroup=\"Modified\"))\n",
    "    append!(df_classes,DataFrame(Class=('C':'F').*'P',ClassGroup=\"Prepared\"))\n",
    "    append!(df_classes,DataFrame(Class=\"XP\",ClassGroup=\"Prepared\"))\n",
    "    append!(df_classes,DataFrame(Class=('A':'F').*\"SP\",ClassGroup=\"Street Prepared\"))\n",
    "    append!(df_classes,DataFrame(Class=[\"SSM\",\"SM\",\"SMF\"],ClassGroup=\"Street Modified\"))\n",
    "    append!(df_classes,DataFrame(Class=[\"STS\",\"STH\",\"STX\",\"STR\",\"STU\",\"STP\"],ClassGroup=\"Street Touring\"))\n",
    "    append!(df_classes,DataFrame(Class=\"CAM-\".*['S','T','C'],ClassGroup=\"CAM\"))\n",
    "    # Give novices a class based on last name initial\n",
    "    df_classes=vcat(df_classes,DataFrame(Class='N'.*('A':'Z'),ClassGroup=missing));\n",
    "else\n",
    "    df_classes=DataFrame(Class='N'.*('A':'Z'),ClassGroup=missing);\n",
    "end"
   ]
  },
  {
   "cell_type": "code",
   "execution_count": 3,
   "metadata": {},
   "outputs": [
    {
     "data": {
      "text/html": [
       "<table class=\"data-frame\"><thead><tr><th></th><th>LastName</th><th>Class</th><th>Year</th><th>Make</th><th>Model</th><th>Index</th><th>IndexClass</th></tr></thead><tbody><tr><th>1</th><td>Ag</td><td>GS</td><td>2013</td><td>Ford</td><td>Focus ST</td><td>Z</td><td>Z</td></tr><tr><th>2</th><td>An</td><td>HS</td><td>2015</td><td>Ford</td><td>Fiesta ST</td><td>Z</td><td>Z</td></tr><tr><th>3</th><td>Au</td><td>ES</td><td>2004</td><td>Toyota</td><td>MR2</td><td>P</td><td>P</td></tr><tr><th>4</th><td>Ba</td><td>BS</td><td>1992</td><td>Chevrolet</td><td>Corvette</td><td>missing</td><td>BS</td></tr><tr><th>5</th><td>Ba</td><td>STS</td><td>1988</td><td>Honda</td><td>CRX</td><td>P</td><td>P</td></tr><tr><th>6</th><td>Ba</td><td>N</td><td>1996</td><td>Lexus</td><td>sc400</td><td>missing</td><td>NB</td></tr></tbody></table>"
      ],
      "text/plain": [
       "6×7 DataFrames.DataFrame\n",
       "│ Row │ LastName │ Class │ Year │ Make      │ Model     │ Index   │ IndexClass │\n",
       "├─────┼──────────┼───────┼──────┼───────────┼───────────┼─────────┼────────────┤\n",
       "│ 1   │ Ag       │ GS    │ 2013 │ Ford      │ Focus ST  │ Z       │ Z          │\n",
       "│ 2   │ An       │ HS    │ 2015 │ Ford      │ Fiesta ST │ Z       │ Z          │\n",
       "│ 3   │ Au       │ ES    │ 2004 │ Toyota    │ MR2       │ P       │ P          │\n",
       "│ 4   │ Ba       │ BS    │ 1992 │ Chevrolet │ Corvette  │ \u001b[90mmissing\u001b[39m │ BS         │\n",
       "│ 5   │ Ba       │ STS   │ 1988 │ Honda     │ CRX       │ P       │ P          │\n",
       "│ 6   │ Ba       │ N     │ 1996 │ Lexus     │ sc400     │ \u001b[90mmissing\u001b[39m │ NB         │"
      ]
     },
     "execution_count": 3,
     "metadata": {},
     "output_type": "execute_result"
    }
   ],
   "source": [
    "df=CSV.read(fn); #Read the CSV to a DataFrame\n",
    "rename!(df, Symbol(\"Modifier/PAX\") => :Index)\n",
    "# rename!(df, Symbol(\"First Name\")=> :FirstName)\n",
    "rename!(df, Symbol(\"Last Name\")=> :LastName)\n",
    "delete!(df, [Symbol(\"Segment Name\"),:Group])\n",
    "df[:IndexClass]=map(x->index_class(x),eachrow(df))\n",
    "head(df)"
   ]
  },
  {
   "cell_type": "markdown",
   "metadata": {},
   "source": [
    "Randomly assign 23 entrants an exempt work position for testing purposes\n",
    "with a preset random seed"
   ]
  },
  {
   "cell_type": "code",
   "execution_count": 4,
   "metadata": {},
   "outputs": [
    {
     "data": {
      "text/html": [
       "<table class=\"data-frame\"><thead><tr><th></th><th>LastName</th><th>Class</th><th>Year</th><th>Make</th><th>Model</th><th>Index</th><th>IndexClass</th><th>Exempt</th></tr></thead><tbody><tr><th>1</th><td>Ag</td><td>GS</td><td>2013</td><td>Ford</td><td>Focus ST</td><td>Z</td><td>Z</td><td>false</td></tr><tr><th>2</th><td>An</td><td>HS</td><td>2015</td><td>Ford</td><td>Fiesta ST</td><td>Z</td><td>Z</td><td>false</td></tr><tr><th>3</th><td>Au</td><td>ES</td><td>2004</td><td>Toyota</td><td>MR2</td><td>P</td><td>P</td><td>true</td></tr><tr><th>4</th><td>Ba</td><td>BS</td><td>1992</td><td>Chevrolet</td><td>Corvette</td><td>missing</td><td>BS</td><td>false</td></tr><tr><th>5</th><td>Ba</td><td>STS</td><td>1988</td><td>Honda</td><td>CRX</td><td>P</td><td>P</td><td>false</td></tr><tr><th>6</th><td>Ba</td><td>N</td><td>1996</td><td>Lexus</td><td>sc400</td><td>missing</td><td>NB</td><td>false</td></tr></tbody></table>"
      ],
      "text/plain": [
       "6×8 DataFrames.DataFrame. Omitted printing of 1 columns\n",
       "│ Row │ LastName │ Class │ Year │ Make      │ Model     │ Index   │ IndexClass │\n",
       "├─────┼──────────┼───────┼──────┼───────────┼───────────┼─────────┼────────────┤\n",
       "│ 1   │ Ag       │ GS    │ 2013 │ Ford      │ Focus ST  │ Z       │ Z          │\n",
       "│ 2   │ An       │ HS    │ 2015 │ Ford      │ Fiesta ST │ Z       │ Z          │\n",
       "│ 3   │ Au       │ ES    │ 2004 │ Toyota    │ MR2       │ P       │ P          │\n",
       "│ 4   │ Ba       │ BS    │ 1992 │ Chevrolet │ Corvette  │ \u001b[90mmissing\u001b[39m │ BS         │\n",
       "│ 5   │ Ba       │ STS   │ 1988 │ Honda     │ CRX       │ P       │ P          │\n",
       "│ 6   │ Ba       │ N     │ 1996 │ Lexus     │ sc400     │ \u001b[90mmissing\u001b[39m │ NB         │"
      ]
     },
     "execution_count": 4,
     "metadata": {},
     "output_type": "execute_result"
    }
   ],
   "source": [
    "n_drivers=nrow(df);\n",
    "exempt_drivers=fill(false,n_drivers);\n",
    "srand(562161);\n",
    "exempt_drivers[randperm(n_drivers)[1:23]]=true;\n",
    "df[:Exempt]=exempt_drivers;\n",
    "head(df)"
   ]
  },
  {
   "cell_type": "code",
   "execution_count": 5,
   "metadata": {},
   "outputs": [
    {
     "data": {
      "text/html": [
       "<table class=\"data-frame\"><thead><tr><th></th><th>Class</th><th>Drivers</th><th>Exempt</th></tr></thead><tbody><tr><th>1</th><td>ASP</td><td>1</td><td>0</td></tr><tr><th>2</th><td>BS</td><td>7</td><td>1</td></tr><tr><th>3</th><td>CAM-S</td><td>3</td><td>2</td></tr><tr><th>4</th><td>CAM-T</td><td>3</td><td>1</td></tr><tr><th>5</th><td>CS</td><td>3</td><td>1</td></tr><tr><th>6</th><td>DM</td><td>2</td><td>0</td></tr></tbody></table>"
      ],
      "text/plain": [
       "6×3 DataFrames.DataFrame\n",
       "│ Row │ Class │ Drivers │ Exempt │\n",
       "├─────┼───────┼─────────┼────────┤\n",
       "│ 1   │ ASP   │ 1       │ 0      │\n",
       "│ 2   │ BS    │ 7       │ 1      │\n",
       "│ 3   │ CAM-S │ 3       │ 2      │\n",
       "│ 4   │ CAM-T │ 3       │ 1      │\n",
       "│ 5   │ CS    │ 3       │ 1      │\n",
       "│ 6   │ DM    │ 2       │ 0      │"
      ]
     },
     "execution_count": 5,
     "metadata": {},
     "output_type": "execute_result"
    }
   ],
   "source": [
    "#Count up the drivers per class\n",
    "df=@from i in df begin\n",
    "    @group i by i.IndexClass into g\n",
    "    @orderby ascending(g.key)\n",
    "    @select {Class=g.key, Drivers=length(g), Exempt=sum(g..Exempt)}\n",
    "    @collect DataFrame\n",
    "end\n",
    "head(df)"
   ]
  },
  {
   "cell_type": "code",
   "execution_count": 6,
   "metadata": {},
   "outputs": [
    {
     "data": {
      "text/html": [
       "<table class=\"data-frame\"><thead><tr><th></th><th>Class</th><th>Drivers</th><th>Exempt</th><th>ClassGroup</th></tr></thead><tbody><tr><th>1</th><td>ASP</td><td>1</td><td>0</td><td>Street Prepared</td></tr><tr><th>2</th><td>BS</td><td>7</td><td>1</td><td>Street</td></tr><tr><th>3</th><td>CAM-S</td><td>3</td><td>2</td><td>CAM</td></tr><tr><th>4</th><td>CAM-T</td><td>3</td><td>1</td><td>CAM</td></tr><tr><th>5</th><td>CS</td><td>3</td><td>1</td><td>Street</td></tr><tr><th>6</th><td>DM</td><td>2</td><td>0</td><td>Modified</td></tr><tr><th>7</th><td>DS</td><td>4</td><td>0</td><td>Street</td></tr><tr><th>8</th><td>EM</td><td>2</td><td>1</td><td>Modified</td></tr><tr><th>9</th><td>ES</td><td>5</td><td>1</td><td>Street</td></tr><tr><th>10</th><td>FS</td><td>1</td><td>0</td><td>Street</td></tr><tr><th>11</th><td>GS</td><td>1</td><td>0</td><td>Street</td></tr><tr><th>12</th><td>HS</td><td>4</td><td>1</td><td>Street</td></tr><tr><th>13</th><td>NB</td><td>4</td><td>0</td><td>missing</td></tr><tr><th>14</th><td>NC</td><td>1</td><td>0</td><td>missing</td></tr><tr><th>15</th><td>ND</td><td>1</td><td>0</td><td>missing</td></tr><tr><th>16</th><td>NG</td><td>2</td><td>0</td><td>missing</td></tr><tr><th>17</th><td>NH</td><td>2</td><td>0</td><td>missing</td></tr><tr><th>18</th><td>NJ</td><td>2</td><td>0</td><td>missing</td></tr><tr><th>19</th><td>NK</td><td>2</td><td>0</td><td>missing</td></tr><tr><th>20</th><td>NL</td><td>3</td><td>0</td><td>missing</td></tr><tr><th>21</th><td>NM</td><td>1</td><td>0</td><td>missing</td></tr><tr><th>22</th><td>NN</td><td>1</td><td>0</td><td>missing</td></tr><tr><th>23</th><td>NP</td><td>1</td><td>1</td><td>missing</td></tr><tr><th>24</th><td>NR</td><td>1</td><td>0</td><td>missing</td></tr><tr><th>25</th><td>NS</td><td>2</td><td>0</td><td>missing</td></tr><tr><th>26</th><td>NT</td><td>2</td><td>0</td><td>missing</td></tr><tr><th>27</th><td>NW</td><td>4</td><td>0</td><td>missing</td></tr><tr><th>28</th><td>P</td><td>21</td><td>6</td><td>missing</td></tr><tr><th>29</th><td>SMF</td><td>5</td><td>0</td><td>Street Modified</td></tr><tr><th>30</th><td>SSC</td><td>2</td><td>0</td><td>missing</td></tr><tr><th>&vellip;</th><td>&vellip;</td><td>&vellip;</td><td>&vellip;</td><td>&vellip;</td></tr></tbody></table>"
      ],
      "text/plain": [
       "105×4 DataFrames.DataFrame\n",
       "│ Row │ Class │ Drivers │ Exempt │ ClassGroup      │\n",
       "├─────┼───────┼─────────┼────────┼─────────────────┤\n",
       "│ 1   │ ASP   │ 1       │ 0      │ Street Prepared │\n",
       "│ 2   │ BS    │ 7       │ 1      │ Street          │\n",
       "│ 3   │ CAM-S │ 3       │ 2      │ CAM             │\n",
       "│ 4   │ CAM-T │ 3       │ 1      │ CAM             │\n",
       "│ 5   │ CS    │ 3       │ 1      │ Street          │\n",
       "│ 6   │ DM    │ 2       │ 0      │ Modified        │\n",
       "│ 7   │ DS    │ 4       │ 0      │ Street          │\n",
       "│ 8   │ EM    │ 2       │ 1      │ Modified        │\n",
       "│ 9   │ ES    │ 5       │ 1      │ Street          │\n",
       "│ 10  │ FS    │ 1       │ 0      │ Street          │\n",
       "│ 11  │ GS    │ 1       │ 0      │ Street          │\n",
       "⋮\n",
       "│ 94  │ NO    │ 0       │ 0      │ \u001b[90mmissing\u001b[39m         │\n",
       "│ 95  │ NP    │ 0       │ 0      │ \u001b[90mmissing\u001b[39m         │\n",
       "│ 96  │ NQ    │ 0       │ 0      │ \u001b[90mmissing\u001b[39m         │\n",
       "│ 97  │ NR    │ 0       │ 0      │ \u001b[90mmissing\u001b[39m         │\n",
       "│ 98  │ NS    │ 0       │ 0      │ \u001b[90mmissing\u001b[39m         │\n",
       "│ 99  │ NT    │ 0       │ 0      │ \u001b[90mmissing\u001b[39m         │\n",
       "│ 100 │ NU    │ 0       │ 0      │ \u001b[90mmissing\u001b[39m         │\n",
       "│ 101 │ NV    │ 0       │ 0      │ \u001b[90mmissing\u001b[39m         │\n",
       "│ 102 │ NW    │ 0       │ 0      │ \u001b[90mmissing\u001b[39m         │\n",
       "│ 103 │ NX    │ 0       │ 0      │ \u001b[90mmissing\u001b[39m         │\n",
       "│ 104 │ NY    │ 0       │ 0      │ \u001b[90mmissing\u001b[39m         │\n",
       "│ 105 │ NZ    │ 0       │ 0      │ \u001b[90mmissing\u001b[39m         │"
      ]
     },
     "execution_count": 6,
     "metadata": {},
     "output_type": "execute_result"
    }
   ],
   "source": [
    "df_classes[:Drivers]=0; df_classes[:Exempt]=0;\n",
    "df_classes[[:Class,:Drivers,:Exempt]]\n",
    "sum(df[:Drivers])\n",
    "df=vcat(df, df_classes[[:Class,:Drivers,:Exempt]])\n",
    "df=join(df,df_classes[[:Class,:ClassGroup]],on=:Class,kind=:left)"
   ]
  },
  {
   "cell_type": "code",
   "execution_count": 7,
   "metadata": {},
   "outputs": [
    {
     "data": {
      "text/html": [
       "<table class=\"data-frame\"><thead><tr><th></th><th>Class</th><th>Drivers</th><th>Exempt</th><th>ClassGroup</th></tr></thead><tbody><tr><th>1</th><td>AS</td><td>0</td><td>0</td><td>Street</td></tr><tr><th>2</th><td>BS</td><td>0</td><td>0</td><td>Street</td></tr><tr><th>3</th><td>CS</td><td>0</td><td>0</td><td>Street</td></tr><tr><th>4</th><td>DS</td><td>0</td><td>0</td><td>Street</td></tr><tr><th>5</th><td>ES</td><td>0</td><td>0</td><td>Street</td></tr><tr><th>6</th><td>FS</td><td>0</td><td>0</td><td>Street</td></tr></tbody></table>"
      ],
      "text/plain": [
       "6×4 DataFrames.DataFrame\n",
       "│ Row │ Class │ Drivers │ Exempt │ ClassGroup │\n",
       "├─────┼───────┼─────────┼────────┼────────────┤\n",
       "│ 1   │ AS    │ 0       │ 0      │ Street     │\n",
       "│ 2   │ BS    │ 0       │ 0      │ Street     │\n",
       "│ 3   │ CS    │ 0       │ 0      │ Street     │\n",
       "│ 4   │ DS    │ 0       │ 0      │ Street     │\n",
       "│ 5   │ ES    │ 0       │ 0      │ Street     │\n",
       "│ 6   │ FS    │ 0       │ 0      │ Street     │"
      ]
     },
     "execution_count": 7,
     "metadata": {},
     "output_type": "execute_result"
    }
   ],
   "source": [
    "(@from i in df begin\n",
    "    @where i.Drivers==0\n",
    "    @select i\n",
    "    @collect DataFrame\n",
    "    end) |> head"
   ]
  },
  {
   "cell_type": "code",
   "execution_count": 8,
   "metadata": {},
   "outputs": [
    {
     "data": {
      "text/html": [
       "<table class=\"data-frame\"><thead><tr><th></th><th>Class</th><th>Drivers</th><th>Exempt</th><th>Novice</th><th>ClassGroup</th></tr></thead><tbody><tr><th>1</th><td>ASP</td><td>1</td><td>0</td><td>false</td><td>Street Prepared</td></tr><tr><th>2</th><td>BS</td><td>7</td><td>1</td><td>false</td><td>Street</td></tr><tr><th>3</th><td>CAM-S</td><td>3</td><td>2</td><td>false</td><td>CAM</td></tr><tr><th>4</th><td>CAM-T</td><td>3</td><td>1</td><td>false</td><td>CAM</td></tr><tr><th>5</th><td>CS</td><td>3</td><td>1</td><td>false</td><td>Street</td></tr><tr><th>6</th><td>DM</td><td>2</td><td>0</td><td>false</td><td>Modified</td></tr></tbody></table>"
      ],
      "text/plain": [
       "6×5 DataFrames.DataFrame\n",
       "│ Row │ Class │ Drivers │ Exempt │ Novice │ ClassGroup      │\n",
       "├─────┼───────┼─────────┼────────┼────────┼─────────────────┤\n",
       "│ 1   │ ASP   │ 1       │ 0      │ false  │ Street Prepared │\n",
       "│ 2   │ BS    │ 7       │ 1      │ false  │ Street          │\n",
       "│ 3   │ CAM-S │ 3       │ 2      │ false  │ CAM             │\n",
       "│ 4   │ CAM-T │ 3       │ 1      │ false  │ CAM             │\n",
       "│ 5   │ CS    │ 3       │ 1      │ false  │ Street          │\n",
       "│ 6   │ DM    │ 2       │ 0      │ false  │ Modified        │"
      ]
     },
     "execution_count": 8,
     "metadata": {},
     "output_type": "execute_result"
    }
   ],
   "source": [
    "# Sum drivers per class, to keep the empty classes active\n",
    "df=@from i in df begin\n",
    "    @group i by i.Class into g\n",
    "    @select {Class=g.key, Drivers=sum(g..Drivers), Exempt=sum(g..Exempt), Novice=g.key[1]=='N',\n",
    "        ClassGroup=first(g..ClassGroup)}\n",
    "    @collect DataFrame\n",
    "end\n",
    "head(df)"
   ]
  },
  {
   "cell_type": "code",
   "execution_count": 9,
   "metadata": {},
   "outputs": [],
   "source": [
    "df=@from i in df begin\n",
    "    @orderby ascending(i.Novice),ascending(i.ClassGroup),ascending(i.Class)\n",
    "    @select i\n",
    "    @collect DataFrame\n",
    "end;"
   ]
  },
  {
   "cell_type": "code",
   "execution_count": 10,
   "metadata": {},
   "outputs": [
    {
     "data": {
      "text/html": [
       "<table class=\"data-frame\"><thead><tr><th></th><th>Class</th><th>Drivers</th><th>Exempt</th><th>Novice</th><th>ClassGroup</th><th>Workers</th></tr></thead><tbody><tr><th>1</th><td>CAM-C</td><td>0</td><td>0</td><td>false</td><td>CAM</td><td>0</td></tr><tr><th>2</th><td>CAM-S</td><td>3</td><td>2</td><td>false</td><td>CAM</td><td>1</td></tr><tr><th>3</th><td>CAM-T</td><td>3</td><td>1</td><td>false</td><td>CAM</td><td>2</td></tr><tr><th>4</th><td>AM</td><td>0</td><td>0</td><td>false</td><td>Modified</td><td>0</td></tr><tr><th>5</th><td>BM</td><td>0</td><td>0</td><td>false</td><td>Modified</td><td>0</td></tr><tr><th>6</th><td>CM</td><td>0</td><td>0</td><td>false</td><td>Modified</td><td>0</td></tr></tbody></table>"
      ],
      "text/plain": [
       "6×6 DataFrames.DataFrame\n",
       "│ Row │ Class │ Drivers │ Exempt │ Novice │ ClassGroup │ Workers │\n",
       "├─────┼───────┼─────────┼────────┼────────┼────────────┼─────────┤\n",
       "│ 1   │ CAM-C │ 0       │ 0      │ false  │ CAM        │ 0       │\n",
       "│ 2   │ CAM-S │ 3       │ 2      │ false  │ CAM        │ 1       │\n",
       "│ 3   │ CAM-T │ 3       │ 1      │ false  │ CAM        │ 2       │\n",
       "│ 4   │ AM    │ 0       │ 0      │ false  │ Modified   │ 0       │\n",
       "│ 5   │ BM    │ 0       │ 0      │ false  │ Modified   │ 0       │\n",
       "│ 6   │ CM    │ 0       │ 0      │ false  │ Modified   │ 0       │"
      ]
     },
     "execution_count": 10,
     "metadata": {},
     "output_type": "execute_result"
    }
   ],
   "source": [
    "# let d=df[find(x->x[:Class]==\"N\",eachrow(df)),:]\n",
    "#     DataFrame(Class=(@. \"N\"*string(1:_run_groups)),\n",
    "#         Drivers=distribute_int(d[:Drivers][1],_run_groups),\n",
    "#         Exempt=distribute_int(d[:Exempt][1],_run_groups)) |> x -> append!(df,x)\n",
    "# end\n",
    "\n",
    "df=@from i in df begin\n",
    "    @where i.Class != \"N\"\n",
    "    @select i\n",
    "    @collect DataFrame\n",
    "end\n",
    "df[:Workers]=df[:Drivers].-df[:Exempt]\n",
    "head(df)"
   ]
  },
  {
   "cell_type": "code",
   "execution_count": 11,
   "metadata": {},
   "outputs": [
    {
     "data": {
      "text/plain": [
       "Variable of\n",
       "size: (72, 2)\n",
       "sign: Convex.NoSign()\n",
       "vexity: Convex.AffineVexity()"
      ]
     },
     "execution_count": 11,
     "metadata": {},
     "output_type": "execute_result"
    }
   ],
   "source": [
    "# Create our variables\n",
    "N = nrow(df)\n",
    "x = Variable((N,_run_groups), :Bin) #Class allocation variable"
   ]
  },
  {
   "cell_type": "code",
   "execution_count": 12,
   "metadata": {},
   "outputs": [],
   "source": [
    "#Each class must be in exactly 1 run group\n",
    "constr=sum(x,2).==1;"
   ]
  },
  {
   "cell_type": "markdown",
   "metadata": {},
   "source": [
    "This next set constrains the Novice class split so that Run Group #1 starts a A and continues to a \"L1\",\n",
    "and Group #2 resumes form \"L1+1\" to \"L2\", and Group #3 etc... resumes from \"L2+1\" to Z.\n",
    "\n",
    "An illustration of the constraints is shown below, for an example of 4 letters, and 3 run groups"
   ]
  },
  {
   "cell_type": "code",
   "execution_count": 13,
   "metadata": {},
   "outputs": [
    {
     "name": "stdout",
     "output_type": "stream",
     "text": [
      "sum(x[1,1:1])>=x[2,1]\n",
      "sum(x[2,1:1])>=x[3,1]\n",
      "sum(x[3,1:1])>=x[4,1]\n",
      "sum(x[1,1:2])>=x[2,2]\n",
      "sum(x[2,1:2])>=x[3,2]\n",
      "sum(x[3,1:2])>=x[4,2]\n"
     ]
    }
   ],
   "source": [
    "let N=4, _run_groups=3\n",
    "    [\"sum(x[$i,1:$n])>=x[$(i+1),$n]\" for n=1:_run_groups-1 for i=1:N-1] .|> println\n",
    "end;"
   ]
  },
  {
   "cell_type": "code",
   "execution_count": 14,
   "metadata": {},
   "outputs": [],
   "source": [
    "sub_x = x[df[:Novice] |> find,:]  # sub_array of only the novice classes\n",
    "constr+=(x->[sum(x[i,1:n])>=x[(i+1),n] for n=1:_run_groups-1 for i=1:size(x,1)-1])(sub_x);"
   ]
  },
  {
   "cell_type": "code",
   "execution_count": 15,
   "metadata": {},
   "outputs": [
    {
     "name": "stdout",
     "output_type": "stream",
     "text": [
      "Combining AS,CS,DS,FS,GS,HS,SS,SSR due to <= 4 drivers\n",
      "Combining CAM-C,CAM-S,CAM-T,AM,BM,CM,DM,EM,FM,KM,CP,DP,EP,FP,XP,SM,SSM,ASP,BSP,CSP,DSP,ESP,FSP,STH,STP,STR,STS,STU,STX,SSC,SSP,V,X due to <= 4 drivers\n"
     ]
    }
   ],
   "source": [
    "#keep Combined classes together if necessary\n",
    "constr+=let ind=[any(d[:Class].==c1_list) && (d[:Drivers] <= _max_to_bump) && !d[:Novice] for d in eachrow(df)] |> find\n",
    "    \"Combining $(join(df[ind,:Class],',')) due to <= $_max_to_bump drivers\" |> println\n",
    "    [x[ind[1:end-1],run_group].==x[ind[2:end],run_group] for run_group=1:_run_groups]\n",
    "end;\n",
    "constr+=let ind=[!any(d[:Class].==c1_list) && (d[:Drivers] <= _max_to_bump) && !d[:Novice] for d in eachrow(df)] |> find\n",
    "    \"Combining $(join(df[ind,:Class],',')) due to <= $_max_to_bump drivers\" |> println\n",
    "    [x[ind[1:end-1],run_group].==x[ind[2:end],run_group] for run_group=1:_run_groups]\n",
    "end;"
   ]
  },
  {
   "cell_type": "code",
   "execution_count": 16,
   "metadata": {},
   "outputs": [],
   "source": [
    "#Split Pro & Z\n",
    "constr+=let ind=[any(d[:Class].==[\"P\",\"Z\"]) for d in eachrow(df)] |> find\n",
    "    sum(x[ind,:],1).<=1\n",
    "end;"
   ]
  },
  {
   "cell_type": "code",
   "execution_count": 17,
   "metadata": {},
   "outputs": [
    {
     "data": {
      "text/plain": [
       "AbstractExpr with\n",
       "head: reshape\n",
       "size: (2, 1)\n",
       "sign: Convex.NoSign()\n",
       "vexity: Convex.AffineVexity()\n"
      ]
     },
     "execution_count": 17,
     "metadata": {},
     "output_type": "execute_result"
    }
   ],
   "source": [
    "#Expressions that can be used in the optimizer\n",
    "rungroup_workers=sum(x.*df[:Workers],1) |> vec #Workers available per run group\n",
    "rungroup_drivers=sum(x.*df[:Drivers],1) |> vec #Drivers in each run group\n",
    "rungroup_novice= sum(Vector(df[:Drivers].*df[:Novice]).*x,1) |> vec"
   ]
  },
  {
   "cell_type": "code",
   "execution_count": 18,
   "metadata": {},
   "outputs": [],
   "source": [
    "constr+=maximum(rungroup_drivers)-minimum(rungroup_drivers)<=_max_driver_diff;\n",
    "constr+=maximum(rungroup_novice)-minimum(rungroup_novice)<=_max_novice_diff;"
   ]
  },
  {
   "cell_type": "code",
   "execution_count": 19,
   "metadata": {},
   "outputs": [],
   "source": [
    "# Define the problem's optimization, under required constraints\n",
    "p=maximize(minimum(rungroup_workers),constr);  #Maximize, the Minimum # of workers in a run group"
   ]
  },
  {
   "cell_type": "code",
   "execution_count": 20,
   "metadata": {},
   "outputs": [],
   "source": [
    "solve!(p, GLPKSolverMIP())"
   ]
  },
  {
   "cell_type": "code",
   "execution_count": 21,
   "metadata": {},
   "outputs": [
    {
     "data": {
      "text/plain": [
       ":Optimal"
      ]
     },
     "execution_count": 21,
     "metadata": {},
     "output_type": "execute_result"
    }
   ],
   "source": [
    "#What is the status of the solutioin\n",
    "p.status"
   ]
  },
  {
   "cell_type": "code",
   "execution_count": 22,
   "metadata": {},
   "outputs": [
    {
     "name": "stdout",
     "output_type": "stream",
     "text": [
      "Run group #1, 68 drivers, 58 workers, 17 novice drivers\n",
      "Run group #2, 71 drivers, 58 workers, 12 novice drivers\n"
     ]
    }
   ],
   "source": [
    "let f = x-> Integer.(evaluate(x))\n",
    "    for (i,(drivers,novice,workers)) in enumerate(zip(f.((rungroup_drivers,rungroup_novice,rungroup_workers))...))\n",
    "        println(\"Run group #$i, $drivers drivers, $workers workers, $novice novice drivers\")\n",
    "    end\n",
    "end"
   ]
  },
  {
   "cell_type": "code",
   "execution_count": 23,
   "metadata": {},
   "outputs": [
    {
     "name": "stdout",
     "output_type": "stream",
     "text": [
      "Run Group #1:\n",
      "AS\n",
      "BS\n",
      "CS\n",
      "DS\n",
      "ES\n",
      "FS\n",
      "GS\n",
      "HS\n",
      "SS\n",
      "SSR\n",
      "SMF\n",
      "P\n",
      "Novice A-L\n"
     ]
    }
   ],
   "source": [
    "println(\"Run Group #1:\"); println.(rungroup(x,df,1));"
   ]
  },
  {
   "cell_type": "code",
   "execution_count": 24,
   "metadata": {},
   "outputs": [
    {
     "name": "stdout",
     "output_type": "stream",
     "text": [
      "Run Group #2:\n",
      "CAM-C\n",
      "CAM-S\n",
      "CAM-T\n",
      "AM\n",
      "BM\n",
      "CM\n",
      "DM\n",
      "EM\n",
      "FM\n",
      "KM\n",
      "CP\n",
      "DP\n",
      "EP\n",
      "FP\n",
      "XP\n",
      "SM\n",
      "SSM\n",
      "ASP\n",
      "BSP\n",
      "CSP\n",
      "DSP\n",
      "ESP\n",
      "FSP\n",
      "STH\n",
      "STP\n",
      "STR\n",
      "STS\n",
      "STU\n",
      "STX\n",
      "SSC\n",
      "SSP\n",
      "V\n",
      "X\n",
      "Z\n",
      "Novice M-Z\n"
     ]
    }
   ],
   "source": [
    "println(\"Run Group #2:\"); println.(rungroup(x,df,2));"
   ]
  },
  {
   "cell_type": "code",
   "execution_count": 25,
   "metadata": {},
   "outputs": [],
   "source": [
    "_run_groups >= 3 && (println(\"Run Group #3:\"); println.(rungroup(x,df,3)));"
   ]
  }
 ],
 "metadata": {
  "kernelspec": {
   "display_name": "Julia 0.6.2",
   "language": "julia",
   "name": "julia-0.6"
  },
  "language_info": {
   "file_extension": ".jl",
   "mimetype": "application/julia",
   "name": "julia",
   "version": "0.6.2"
  }
 },
 "nbformat": 4,
 "nbformat_minor": 2
}
