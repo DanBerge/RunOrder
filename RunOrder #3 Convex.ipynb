{
 "cells": [
  {
   "cell_type": "code",
   "execution_count": 1,
   "metadata": {},
   "outputs": [
    {
     "data": {
      "text/plain": [
       "rungroup (generic function with 1 method)"
      ]
     },
     "execution_count": 1,
     "metadata": {},
     "output_type": "execute_result"
    }
   ],
   "source": [
    "using DataFrames, CSV, Query #Data handling\n",
    "using Convex, GLPKMathProgInterface # Optimization tools\n",
    "\n",
    "fn = \"MOWOG1entries.csv\"\n",
    "c1_list=[\"AS\", \"BS\", \"CS\", \"DS\", \"ES\", \"FS\", \"GS\", \"HS\",\"SS\",\"SSR\"] # Combined 1 classes\n",
    "_run_groups = 2 #Number of run groups for the event\n",
    "_max_to_bump = 4 #Maximum number of entrants in the class that will still be bumped to combined\n",
    "_max_driver_diff = 4 #Maximum difference in number of drivers per run group\n",
    "_max_novice_diff = 5 #Maximum difference in number of novice drivers per run group\n",
    "\n",
    "#Distribute an integer over N integer parts\n",
    "function distribute_int(a::T,n::T) where {T<:Integer}\n",
    "    (num,den) = divrem(a,n)\n",
    "    [ifelse(i<=den,num+1,num) for i=1:n]\n",
    "end\n",
    "@assert distribute_int(10,3)==[4,3,3]\n",
    "\n",
    "function index_class(a::T) where {T<:DataFrameRow}\n",
    "    if ismissing(a[:Index])\n",
    "        if a[:Class]==\"N\"\n",
    "            'N'*a[:LastName][1] |> String\n",
    "        else\n",
    "            a[:Class] |> String\n",
    "        end\n",
    "    else\n",
    "        a[:Index] |> String\n",
    "    end\n",
    "end\n",
    "\n",
    "function rungroup(a::Convex.AbstractExprOrValue,df::DataFrame, n::Integer)\n",
    "    @assert n<=size(a,2)\n",
    "    A = evaluate(a[:,n]) .≈ 1.0\n",
    "    novice_ind = A .& df[:Novice]\n",
    "    n1 = findfirst(novice_ind) |> i->df[i,:Class][2]\n",
    "    n2 = findlast(novice_ind) |> i->df[i,:Class][2]\n",
    "    ind = A .& .!(df[:Novice]) |> find\n",
    "    y=df[ind,:Class]\n",
    "    push!(y,\"Novice $n1-$n2\")\n",
    "end"
   ]
  },
  {
   "cell_type": "code",
   "execution_count": 2,
   "metadata": {},
   "outputs": [
    {
     "data": {
      "text/html": [
       "<table class=\"data-frame\"><thead><tr><th></th><th>LastName</th><th>Class</th><th>Year</th><th>Make</th><th>Model</th><th>Index</th><th>IndexClass</th></tr></thead><tbody><tr><th>1</th><td>Ag</td><td>GS</td><td>2013</td><td>Ford</td><td>Focus ST</td><td>Z</td><td>Z</td></tr><tr><th>2</th><td>An</td><td>HS</td><td>2015</td><td>Ford</td><td>Fiesta ST</td><td>Z</td><td>Z</td></tr><tr><th>3</th><td>Au</td><td>ES</td><td>2004</td><td>Toyota</td><td>MR2</td><td>P</td><td>P</td></tr><tr><th>4</th><td>Ba</td><td>BS</td><td>1992</td><td>Chevrolet</td><td>Corvette</td><td>missing</td><td>BS</td></tr><tr><th>5</th><td>Ba</td><td>STS</td><td>1988</td><td>Honda</td><td>CRX</td><td>P</td><td>P</td></tr><tr><th>6</th><td>Ba</td><td>N</td><td>1996</td><td>Lexus</td><td>sc400</td><td>missing</td><td>NB</td></tr></tbody></table>"
      ],
      "text/plain": [
       "6×7 DataFrames.DataFrame\n",
       "│ Row │ LastName │ Class │ Year │ Make      │ Model     │ Index   │ IndexClass │\n",
       "├─────┼──────────┼───────┼──────┼───────────┼───────────┼─────────┼────────────┤\n",
       "│ 1   │ Ag       │ GS    │ 2013 │ Ford      │ Focus ST  │ Z       │ Z          │\n",
       "│ 2   │ An       │ HS    │ 2015 │ Ford      │ Fiesta ST │ Z       │ Z          │\n",
       "│ 3   │ Au       │ ES    │ 2004 │ Toyota    │ MR2       │ P       │ P          │\n",
       "│ 4   │ Ba       │ BS    │ 1992 │ Chevrolet │ Corvette  │ \u001b[90mmissing\u001b[39m │ BS         │\n",
       "│ 5   │ Ba       │ STS   │ 1988 │ Honda     │ CRX       │ P       │ P          │\n",
       "│ 6   │ Ba       │ N     │ 1996 │ Lexus     │ sc400     │ \u001b[90mmissing\u001b[39m │ NB         │"
      ]
     },
     "execution_count": 2,
     "metadata": {},
     "output_type": "execute_result"
    }
   ],
   "source": [
    "df=CSV.read(fn); #Read the CSV to a DataFrame\n",
    "rename!(df, Symbol(\"Modifier/PAX\") => :Index)\n",
    "# rename!(df, Symbol(\"First Name\")=> :FirstName)\n",
    "rename!(df, Symbol(\"Last Name\")=> :LastName)\n",
    "delete!(df, [Symbol(\"Segment Name\"),:Group])\n",
    "df[:IndexClass]=map(x->index_class(x),eachrow(df))\n",
    "head(df)"
   ]
  },
  {
   "cell_type": "markdown",
   "metadata": {},
   "source": [
    "Randomly assign 23 entrants an exempt work position for testing purposes\n",
    "with a preset random seed"
   ]
  },
  {
   "cell_type": "code",
   "execution_count": 3,
   "metadata": {},
   "outputs": [
    {
     "data": {
      "text/html": [
       "<table class=\"data-frame\"><thead><tr><th></th><th>LastName</th><th>Class</th><th>Year</th><th>Make</th><th>Model</th><th>Index</th><th>IndexClass</th><th>Exempt</th></tr></thead><tbody><tr><th>1</th><td>Ag</td><td>GS</td><td>2013</td><td>Ford</td><td>Focus ST</td><td>Z</td><td>Z</td><td>false</td></tr><tr><th>2</th><td>An</td><td>HS</td><td>2015</td><td>Ford</td><td>Fiesta ST</td><td>Z</td><td>Z</td><td>false</td></tr><tr><th>3</th><td>Au</td><td>ES</td><td>2004</td><td>Toyota</td><td>MR2</td><td>P</td><td>P</td><td>true</td></tr><tr><th>4</th><td>Ba</td><td>BS</td><td>1992</td><td>Chevrolet</td><td>Corvette</td><td>missing</td><td>BS</td><td>false</td></tr><tr><th>5</th><td>Ba</td><td>STS</td><td>1988</td><td>Honda</td><td>CRX</td><td>P</td><td>P</td><td>false</td></tr><tr><th>6</th><td>Ba</td><td>N</td><td>1996</td><td>Lexus</td><td>sc400</td><td>missing</td><td>NB</td><td>false</td></tr></tbody></table>"
      ],
      "text/plain": [
       "6×8 DataFrames.DataFrame. Omitted printing of 1 columns\n",
       "│ Row │ LastName │ Class │ Year │ Make      │ Model     │ Index   │ IndexClass │\n",
       "├─────┼──────────┼───────┼──────┼───────────┼───────────┼─────────┼────────────┤\n",
       "│ 1   │ Ag       │ GS    │ 2013 │ Ford      │ Focus ST  │ Z       │ Z          │\n",
       "│ 2   │ An       │ HS    │ 2015 │ Ford      │ Fiesta ST │ Z       │ Z          │\n",
       "│ 3   │ Au       │ ES    │ 2004 │ Toyota    │ MR2       │ P       │ P          │\n",
       "│ 4   │ Ba       │ BS    │ 1992 │ Chevrolet │ Corvette  │ \u001b[90mmissing\u001b[39m │ BS         │\n",
       "│ 5   │ Ba       │ STS   │ 1988 │ Honda     │ CRX       │ P       │ P          │\n",
       "│ 6   │ Ba       │ N     │ 1996 │ Lexus     │ sc400     │ \u001b[90mmissing\u001b[39m │ NB         │"
      ]
     },
     "execution_count": 3,
     "metadata": {},
     "output_type": "execute_result"
    }
   ],
   "source": [
    "n_drivers=nrow(df);\n",
    "exempt_drivers=fill(false,n_drivers);\n",
    "srand(562161);\n",
    "exempt_drivers[randperm(n_drivers)[1:23]]=true;\n",
    "df[:Exempt]=exempt_drivers;\n",
    "head(df)"
   ]
  },
  {
   "cell_type": "code",
   "execution_count": 4,
   "metadata": {},
   "outputs": [],
   "source": [
    "novice_fill_df=DataFrame(Class='N'.*('A':'Z'), Drivers=0,Exempt=0);"
   ]
  },
  {
   "cell_type": "code",
   "execution_count": 5,
   "metadata": {},
   "outputs": [
    {
     "data": {
      "text/html": [
       "<table class=\"data-frame\"><thead><tr><th></th><th>Class</th><th>Drivers</th><th>Exempt</th><th>Novice</th></tr></thead><tbody><tr><th>1</th><td>ASP</td><td>1</td><td>0</td><td>false</td></tr><tr><th>2</th><td>BS</td><td>7</td><td>1</td><td>false</td></tr><tr><th>3</th><td>CAM-S</td><td>3</td><td>2</td><td>false</td></tr><tr><th>4</th><td>CAM-T</td><td>3</td><td>1</td><td>false</td></tr><tr><th>5</th><td>CS</td><td>3</td><td>1</td><td>false</td></tr><tr><th>6</th><td>DM</td><td>2</td><td>0</td><td>false</td></tr></tbody></table>"
      ],
      "text/plain": [
       "6×4 DataFrames.DataFrame\n",
       "│ Row │ Class │ Drivers │ Exempt │ Novice │\n",
       "├─────┼───────┼─────────┼────────┼────────┤\n",
       "│ 1   │ ASP   │ 1       │ 0      │ false  │\n",
       "│ 2   │ BS    │ 7       │ 1      │ false  │\n",
       "│ 3   │ CAM-S │ 3       │ 2      │ false  │\n",
       "│ 4   │ CAM-T │ 3       │ 1      │ false  │\n",
       "│ 5   │ CS    │ 3       │ 1      │ false  │\n",
       "│ 6   │ DM    │ 2       │ 0      │ false  │"
      ]
     },
     "execution_count": 5,
     "metadata": {},
     "output_type": "execute_result"
    }
   ],
   "source": [
    "#Count up the drivers per class\n",
    "df=@from i in df begin\n",
    "    @group i by i.IndexClass into g\n",
    "    @orderby ascending(g.key)\n",
    "    @select {Class=g.key, Drivers=length(g), Exempt=sum(g..Exempt)}\n",
    "    @collect DataFrame\n",
    "end\n",
    "\n",
    "#Fill in the empty novice classes, and reduce\n",
    "append!(df,novice_fill_df)\n",
    "df=@from i in df begin\n",
    "    @group i by i.Class into g\n",
    "    @orderby ascending(g.key)\n",
    "    @select {Class=g.key, Drivers=sum(g..Drivers), Exempt=sum(g..Exempt), Novice=g.key[1]=='N'}\n",
    "    @collect DataFrame\n",
    "end\n",
    "head(df)"
   ]
  },
  {
   "cell_type": "code",
   "execution_count": 6,
   "metadata": {},
   "outputs": [
    {
     "data": {
      "text/html": [
       "<table class=\"data-frame\"><thead><tr><th></th><th>Class</th><th>Drivers</th><th>Exempt</th><th>Novice</th><th>Workers</th></tr></thead><tbody><tr><th>1</th><td>ASP</td><td>1</td><td>0</td><td>false</td><td>1</td></tr><tr><th>2</th><td>BS</td><td>7</td><td>1</td><td>false</td><td>6</td></tr><tr><th>3</th><td>CAM-S</td><td>3</td><td>2</td><td>false</td><td>1</td></tr><tr><th>4</th><td>CAM-T</td><td>3</td><td>1</td><td>false</td><td>2</td></tr><tr><th>5</th><td>CS</td><td>3</td><td>1</td><td>false</td><td>2</td></tr><tr><th>6</th><td>DM</td><td>2</td><td>0</td><td>false</td><td>2</td></tr></tbody></table>"
      ],
      "text/plain": [
       "6×5 DataFrames.DataFrame\n",
       "│ Row │ Class │ Drivers │ Exempt │ Novice │ Workers │\n",
       "├─────┼───────┼─────────┼────────┼────────┼─────────┤\n",
       "│ 1   │ ASP   │ 1       │ 0      │ false  │ 1       │\n",
       "│ 2   │ BS    │ 7       │ 1      │ false  │ 6       │\n",
       "│ 3   │ CAM-S │ 3       │ 2      │ false  │ 1       │\n",
       "│ 4   │ CAM-T │ 3       │ 1      │ false  │ 2       │\n",
       "│ 5   │ CS    │ 3       │ 1      │ false  │ 2       │\n",
       "│ 6   │ DM    │ 2       │ 0      │ false  │ 2       │"
      ]
     },
     "execution_count": 6,
     "metadata": {},
     "output_type": "execute_result"
    }
   ],
   "source": [
    "# let d=df[find(x->x[:Class]==\"N\",eachrow(df)),:]\n",
    "#     DataFrame(Class=(@. \"N\"*string(1:_run_groups)),\n",
    "#         Drivers=distribute_int(d[:Drivers][1],_run_groups),\n",
    "#         Exempt=distribute_int(d[:Exempt][1],_run_groups)) |> x -> append!(df,x)\n",
    "# end\n",
    "\n",
    "df=@from i in df begin\n",
    "    @where i.Class != \"N\"\n",
    "    @select i\n",
    "    @collect DataFrame\n",
    "end\n",
    "df[:Workers]=df[:Drivers].-df[:Exempt]\n",
    "head(df)"
   ]
  },
  {
   "cell_type": "code",
   "execution_count": 7,
   "metadata": {},
   "outputs": [
    {
     "data": {
      "text/plain": [
       "Variable of\n",
       "size: (50, 2)\n",
       "sign: Convex.NoSign()\n",
       "vexity: Convex.AffineVexity()"
      ]
     },
     "execution_count": 7,
     "metadata": {},
     "output_type": "execute_result"
    }
   ],
   "source": [
    "# Create our variables\n",
    "N = nrow(df)\n",
    "x = Variable((N,_run_groups), :Bin) #Class allocation variable"
   ]
  },
  {
   "cell_type": "code",
   "execution_count": 8,
   "metadata": {},
   "outputs": [],
   "source": [
    "#Each class must be in exactly 1 run group\n",
    "constr=sum(x,2).==1;"
   ]
  },
  {
   "cell_type": "markdown",
   "metadata": {},
   "source": [
    "This next set constrains the Novice class split so that Run Group #1 starts a A and continues to a \"L1\",\n",
    "and Group #2 resumes form \"L1+1\" to \"L2\", and Group #3 etc... resumes from \"L2+1\" to Z.\n",
    "\n",
    "An illustration of the constraints is shown below, for an example of 4 letters, and 3 run groups"
   ]
  },
  {
   "cell_type": "code",
   "execution_count": 9,
   "metadata": {},
   "outputs": [
    {
     "name": "stdout",
     "output_type": "stream",
     "text": [
      "sum(x[1,1:1])>=x[2,1]\n",
      "sum(x[2,1:1])>=x[3,1]\n",
      "sum(x[3,1:1])>=x[4,1]\n",
      "sum(x[1,1:2])>=x[2,2]\n",
      "sum(x[2,1:2])>=x[3,2]\n",
      "sum(x[3,1:2])>=x[4,2]\n"
     ]
    }
   ],
   "source": [
    "let N=4, _run_groups=3\n",
    "    [\"sum(x[$i,1:$n])>=x[$(i+1),$n]\" for n=1:_run_groups-1 for i=1:N-1] .|> println\n",
    "end;"
   ]
  },
  {
   "cell_type": "code",
   "execution_count": 10,
   "metadata": {},
   "outputs": [],
   "source": [
    "sub_x = x[df[:Novice] |> find,:]  # sub_array of only the novice classes\n",
    "constr+=(x->[sum(x[i,1:n])>=x[(i+1),n] for n=1:_run_groups-1 for i=1:size(x,1)-1])(sub_x);"
   ]
  },
  {
   "cell_type": "code",
   "execution_count": 11,
   "metadata": {},
   "outputs": [
    {
     "name": "stdout",
     "output_type": "stream",
     "text": [
      "Combining CS,DS,FS,GS,HS due to <= 4 drivers\n",
      "Combining ASP,CAM-S,CAM-T,DM,EM,SSC,SSM,SSP,STH,STS,STU,STX,V,X due to <= 4 drivers\n"
     ]
    }
   ],
   "source": [
    "#keep Combined classes together if necessary\n",
    "constr+=let ind=[any(d[:Class].==c1_list) && (d[:Drivers] <= _max_to_bump) && !d[:Novice] for d in eachrow(df)] |> find\n",
    "    \"Combining $(join(df[ind,:Class],',')) due to <= $_max_to_bump drivers\" |> println\n",
    "    [x[ind[1:end-1],run_group].==x[ind[2:end],run_group] for run_group=1:_run_groups]\n",
    "end;\n",
    "constr+=let ind=[!any(d[:Class].==c1_list) && (d[:Drivers] <= _max_to_bump) && !d[:Novice] for d in eachrow(df)] |> find\n",
    "    \"Combining $(join(df[ind,:Class],',')) due to <= $_max_to_bump drivers\" |> println\n",
    "    [x[ind[1:end-1],run_group].==x[ind[2:end],run_group] for run_group=1:_run_groups]\n",
    "end;"
   ]
  },
  {
   "cell_type": "code",
   "execution_count": 12,
   "metadata": {},
   "outputs": [],
   "source": [
    "#Split Pro & Z\n",
    "constr+=let ind=[any(d[:Class].==[\"P\",\"Z\"]) for d in eachrow(df)] |> find\n",
    "    sum(x[ind,:],1).<=1\n",
    "end;"
   ]
  },
  {
   "cell_type": "code",
   "execution_count": 13,
   "metadata": {},
   "outputs": [
    {
     "data": {
      "text/plain": [
       "AbstractExpr with\n",
       "head: reshape\n",
       "size: (2, 1)\n",
       "sign: Convex.NoSign()\n",
       "vexity: Convex.AffineVexity()\n"
      ]
     },
     "execution_count": 13,
     "metadata": {},
     "output_type": "execute_result"
    }
   ],
   "source": [
    "#Expressions that can be used in the optimizer\n",
    "rungroup_workers=sum(x.*df[:Workers],1) |> vec #Workers available per run group\n",
    "rungroup_drivers=sum(x.*df[:Drivers],1) |> vec #Drivers in each run group\n",
    "rungroup_novice= sum(Vector(df[:Drivers].*df[:Novice]).*x,1) |> vec"
   ]
  },
  {
   "cell_type": "code",
   "execution_count": 14,
   "metadata": {},
   "outputs": [],
   "source": [
    "constr+=maximum(rungroup_drivers)-minimum(rungroup_drivers)<=_max_driver_diff;\n",
    "constr+=maximum(rungroup_novice)-minimum(rungroup_novice)<=_max_novice_diff;"
   ]
  },
  {
   "cell_type": "code",
   "execution_count": 15,
   "metadata": {},
   "outputs": [],
   "source": [
    "# Define the problem's optimization, under required constraints\n",
    "p=maximize(minimum(rungroup_workers),constr);  #Maximize, the Minimum # of workers in a run group"
   ]
  },
  {
   "cell_type": "code",
   "execution_count": 16,
   "metadata": {},
   "outputs": [],
   "source": [
    "solve!(p, GLPKSolverMIP())"
   ]
  },
  {
   "cell_type": "code",
   "execution_count": 17,
   "metadata": {},
   "outputs": [
    {
     "data": {
      "text/plain": [
       ":Optimal"
      ]
     },
     "execution_count": 17,
     "metadata": {},
     "output_type": "execute_result"
    }
   ],
   "source": [
    "#What is the status of the solutioin\n",
    "p.status"
   ]
  },
  {
   "cell_type": "code",
   "execution_count": 18,
   "metadata": {},
   "outputs": [
    {
     "name": "stdout",
     "output_type": "stream",
     "text": [
      "Run group #1, 68 drivers, 58 workers, 17 novice drivers\n",
      "Run group #2, 71 drivers, 58 workers, 12 novice drivers\n"
     ]
    }
   ],
   "source": [
    "let f = x-> Integer.(evaluate(x))\n",
    "    for (i,(drivers,novice,workers)) in enumerate(zip(f.((rungroup_drivers,rungroup_novice,rungroup_workers))...))\n",
    "        println(\"Run group #$i, $drivers drivers, $workers workers, $novice novice drivers\")\n",
    "    end\n",
    "end"
   ]
  },
  {
   "cell_type": "code",
   "execution_count": 19,
   "metadata": {},
   "outputs": [
    {
     "name": "stdout",
     "output_type": "stream",
     "text": [
      "Run Group #1:\n",
      "BS\n",
      "CS\n",
      "DS\n",
      "ES\n",
      "FS\n",
      "GS\n",
      "HS\n",
      "P\n",
      "SMF\n",
      "Novice A-L\n"
     ]
    }
   ],
   "source": [
    "println(\"Run Group #1:\"); println.(rungroup(x,df,1));"
   ]
  },
  {
   "cell_type": "code",
   "execution_count": 20,
   "metadata": {},
   "outputs": [
    {
     "name": "stdout",
     "output_type": "stream",
     "text": [
      "Run Group #2:\n",
      "ASP\n",
      "CAM-S\n",
      "CAM-T\n",
      "DM\n",
      "EM\n",
      "SSC\n",
      "SSM\n",
      "SSP\n",
      "STH\n",
      "STS\n",
      "STU\n",
      "STX\n",
      "V\n",
      "X\n",
      "Z\n",
      "Novice M-Z\n"
     ]
    }
   ],
   "source": [
    "println(\"Run Group #2:\"); println.(rungroup(x,df,2));"
   ]
  },
  {
   "cell_type": "code",
   "execution_count": 21,
   "metadata": {},
   "outputs": [],
   "source": [
    "_run_groups >= 3 && (println(\"Run Group #3:\"); println.(rungroup(x,df,3)));"
   ]
  }
 ],
 "metadata": {
  "kernelspec": {
   "display_name": "Julia 0.6.2",
   "language": "julia",
   "name": "julia-0.6"
  },
  "language_info": {
   "file_extension": ".jl",
   "mimetype": "application/julia",
   "name": "julia",
   "version": "0.6.2"
  }
 },
 "nbformat": 4,
 "nbformat_minor": 2
}
