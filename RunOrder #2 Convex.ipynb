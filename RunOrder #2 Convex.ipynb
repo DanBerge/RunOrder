{
 "cells": [
  {
   "cell_type": "code",
   "execution_count": 1,
   "metadata": {},
   "outputs": [],
   "source": [
    "using DataFrames, CSV, Query #Data handling\n",
    "using Convex, GLPKMathProgInterface # Optimization tools\n",
    "\n",
    "fn = \"MOWOG1entries.csv\"\n",
    "c1_list=[\"AS\", \"BS\", \"CS\", \"DS\", \"ES\", \"FS\", \"GS\", \"HS\",\"SS\",\"SSR\"] # Combined 1 classes\n",
    "_run_groups = 2 #Number of run groups for the event\n",
    "_max_to_bump = 4 #Maximum number of entrants in the class that will still be bumped to combined\n",
    "\n",
    "#Distribute an integer over N integer parts\n",
    "function distribute_int(a::T,n::T) where {T<:Integer}\n",
    "    (num,den) = divrem(a,n)\n",
    "    [ifelse(i<=den,num+1,num) for i=1:n]\n",
    "end\n",
    "@assert distribute_int(10,3)==[4,3,3]"
   ]
  },
  {
   "cell_type": "markdown",
   "metadata": {},
   "source": [
    "Randomly assign 23 entrants an exempt work position for testing purposes\n",
    "with a preset random seed"
   ]
  },
  {
   "cell_type": "code",
   "execution_count": 2,
   "metadata": {},
   "outputs": [
    {
     "data": {
      "text/html": [
       "<table class=\"data-frame\"><thead><tr><th></th><th>Class</th><th>Year</th><th>Make</th><th>Model</th><th>Index</th><th>IndexClass</th></tr></thead><tbody><tr><th>1</th><td>GS</td><td>2013</td><td>Ford</td><td>Focus ST</td><td>Z</td><td>Z</td></tr><tr><th>2</th><td>HS</td><td>2015</td><td>Ford</td><td>Fiesta ST</td><td>Z</td><td>Z</td></tr><tr><th>3</th><td>ES</td><td>2004</td><td>Toyota</td><td>MR2</td><td>P</td><td>P</td></tr><tr><th>4</th><td>BS</td><td>1992</td><td>Chevrolet</td><td>Corvette</td><td>missing</td><td>BS</td></tr><tr><th>5</th><td>STS</td><td>1988</td><td>Honda</td><td>CRX</td><td>P</td><td>P</td></tr><tr><th>6</th><td>N</td><td>1996</td><td>Lexus</td><td>sc400</td><td>missing</td><td>N</td></tr></tbody></table>"
      ],
      "text/plain": [
       "6×6 DataFrames.DataFrame\n",
       "│ Row │ Class │ Year │ Make      │ Model     │ Index   │ IndexClass │\n",
       "├─────┼───────┼──────┼───────────┼───────────┼─────────┼────────────┤\n",
       "│ 1   │ GS    │ 2013 │ Ford      │ Focus ST  │ Z       │ Z          │\n",
       "│ 2   │ HS    │ 2015 │ Ford      │ Fiesta ST │ Z       │ Z          │\n",
       "│ 3   │ ES    │ 2004 │ Toyota    │ MR2       │ P       │ P          │\n",
       "│ 4   │ BS    │ 1992 │ Chevrolet │ Corvette  │ \u001b[90mmissing\u001b[39m │ BS         │\n",
       "│ 5   │ STS   │ 1988 │ Honda     │ CRX       │ P       │ P          │\n",
       "│ 6   │ N     │ 1996 │ Lexus     │ sc400     │ \u001b[90mmissing\u001b[39m │ N          │"
      ]
     },
     "execution_count": 2,
     "metadata": {},
     "output_type": "execute_result"
    }
   ],
   "source": [
    "df=CSV.read(fn); #Read the CSV to a DataFrame\n",
    "rename!(df, Symbol(\"Modifier/PAX\") => :Index)\n",
    "#rename!(df, Symbol(\"First Name\")=> :FirstName)\n",
    "#rename!(df, Symbol(\"Last Name\")=> :LastName)\n",
    "delete!(df, [Symbol(\"Segment Name\"),:Group])\n",
    "df[:IndexClass]=map(x-> ismissing(x[:Index]) ? x[:Class] |> String : x[:Index] |> String, eachrow(df))\n",
    "head(df)"
   ]
  },
  {
   "cell_type": "code",
   "execution_count": 3,
   "metadata": {},
   "outputs": [
    {
     "data": {
      "text/html": [
       "<table class=\"data-frame\"><thead><tr><th></th><th>Class</th><th>Year</th><th>Make</th><th>Model</th><th>Index</th><th>IndexClass</th><th>Exempt</th></tr></thead><tbody><tr><th>1</th><td>GS</td><td>2013</td><td>Ford</td><td>Focus ST</td><td>Z</td><td>Z</td><td>false</td></tr><tr><th>2</th><td>HS</td><td>2015</td><td>Ford</td><td>Fiesta ST</td><td>Z</td><td>Z</td><td>false</td></tr><tr><th>3</th><td>ES</td><td>2004</td><td>Toyota</td><td>MR2</td><td>P</td><td>P</td><td>true</td></tr><tr><th>4</th><td>BS</td><td>1992</td><td>Chevrolet</td><td>Corvette</td><td>missing</td><td>BS</td><td>false</td></tr><tr><th>5</th><td>STS</td><td>1988</td><td>Honda</td><td>CRX</td><td>P</td><td>P</td><td>false</td></tr><tr><th>6</th><td>N</td><td>1996</td><td>Lexus</td><td>sc400</td><td>missing</td><td>N</td><td>false</td></tr></tbody></table>"
      ],
      "text/plain": [
       "6×7 DataFrames.DataFrame\n",
       "│ Row │ Class │ Year │ Make      │ Model     │ Index   │ IndexClass │ Exempt │\n",
       "├─────┼───────┼──────┼───────────┼───────────┼─────────┼────────────┼────────┤\n",
       "│ 1   │ GS    │ 2013 │ Ford      │ Focus ST  │ Z       │ Z          │ false  │\n",
       "│ 2   │ HS    │ 2015 │ Ford      │ Fiesta ST │ Z       │ Z          │ false  │\n",
       "│ 3   │ ES    │ 2004 │ Toyota    │ MR2       │ P       │ P          │ true   │\n",
       "│ 4   │ BS    │ 1992 │ Chevrolet │ Corvette  │ \u001b[90mmissing\u001b[39m │ BS         │ false  │\n",
       "│ 5   │ STS   │ 1988 │ Honda     │ CRX       │ P       │ P          │ false  │\n",
       "│ 6   │ N     │ 1996 │ Lexus     │ sc400     │ \u001b[90mmissing\u001b[39m │ N          │ false  │"
      ]
     },
     "execution_count": 3,
     "metadata": {},
     "output_type": "execute_result"
    }
   ],
   "source": [
    "n_drivers=nrow(df);\n",
    "exempt_drivers=fill(false,n_drivers);\n",
    "srand(562161);\n",
    "exempt_drivers[randperm(n_drivers)[1:23]]=true;\n",
    "df[:Exempt]=exempt_drivers;\n",
    "head(df)"
   ]
  },
  {
   "cell_type": "code",
   "execution_count": 4,
   "metadata": {},
   "outputs": [
    {
     "data": {
      "text/html": [
       "<table class=\"data-frame\"><thead><tr><th></th><th>Class</th><th>Drivers</th><th>Exempt</th></tr></thead><tbody><tr><th>1</th><td>Z</td><td>30</td><td>5</td></tr><tr><th>2</th><td>P</td><td>21</td><td>6</td></tr><tr><th>3</th><td>BS</td><td>7</td><td>1</td></tr><tr><th>4</th><td>N</td><td>29</td><td>1</td></tr><tr><th>5</th><td>FS</td><td>1</td><td>0</td></tr><tr><th>6</th><td>ASP</td><td>1</td><td>0</td></tr></tbody></table>"
      ],
      "text/plain": [
       "6×3 DataFrames.DataFrame\n",
       "│ Row │ Class │ Drivers │ Exempt │\n",
       "├─────┼───────┼─────────┼────────┤\n",
       "│ 1   │ Z     │ 30      │ 5      │\n",
       "│ 2   │ P     │ 21      │ 6      │\n",
       "│ 3   │ BS    │ 7       │ 1      │\n",
       "│ 4   │ N     │ 29      │ 1      │\n",
       "│ 5   │ FS    │ 1       │ 0      │\n",
       "│ 6   │ ASP   │ 1       │ 0      │"
      ]
     },
     "execution_count": 4,
     "metadata": {},
     "output_type": "execute_result"
    }
   ],
   "source": [
    "#Count up the drivers per class\n",
    "df=@from i in df begin\n",
    "    @group i by i.IndexClass into g\n",
    "    @select {Class=g.key, Drivers=length(g),Exempt=sum(g..Exempt)}\n",
    "    @collect DataFrame\n",
    "end\n",
    "head(df)"
   ]
  },
  {
   "cell_type": "code",
   "execution_count": 5,
   "metadata": {},
   "outputs": [
    {
     "data": {
      "text/html": [
       "<table class=\"data-frame\"><thead><tr><th></th><th>Class</th><th>Drivers</th><th>Exempt</th><th>Workers</th></tr></thead><tbody><tr><th>1</th><td>Z</td><td>30</td><td>5</td><td>25</td></tr><tr><th>2</th><td>P</td><td>21</td><td>6</td><td>15</td></tr><tr><th>3</th><td>BS</td><td>7</td><td>1</td><td>6</td></tr><tr><th>4</th><td>FS</td><td>1</td><td>0</td><td>1</td></tr><tr><th>5</th><td>ASP</td><td>1</td><td>0</td><td>1</td></tr><tr><th>6</th><td>SSC</td><td>2</td><td>0</td><td>2</td></tr></tbody></table>"
      ],
      "text/plain": [
       "6×4 DataFrames.DataFrame\n",
       "│ Row │ Class │ Drivers │ Exempt │ Workers │\n",
       "├─────┼───────┼─────────┼────────┼─────────┤\n",
       "│ 1   │ Z     │ 30      │ 5      │ 25      │\n",
       "│ 2   │ P     │ 21      │ 6      │ 15      │\n",
       "│ 3   │ BS    │ 7       │ 1      │ 6       │\n",
       "│ 4   │ FS    │ 1       │ 0      │ 1       │\n",
       "│ 5   │ ASP   │ 1       │ 0      │ 1       │\n",
       "│ 6   │ SSC   │ 2       │ 0      │ 2       │"
      ]
     },
     "execution_count": 5,
     "metadata": {},
     "output_type": "execute_result"
    }
   ],
   "source": [
    "let d=df[find(x->x[:Class]==\"N\",eachrow(df)),:]\n",
    "    DataFrame(Class=(@. \"N\"*string(1:_run_groups)),\n",
    "        Drivers=distribute_int(d[:Drivers][1],_run_groups),\n",
    "        Exempt=distribute_int(d[:Exempt][1],_run_groups)) |> x -> append!(df,x)\n",
    "end\n",
    "\n",
    "df=@from i in df begin\n",
    "    @where i.Class != \"N\"\n",
    "    @select i\n",
    "    @collect DataFrame\n",
    "end\n",
    "df[:Workers]=df[:Drivers].-df[:Exempt]\n",
    "head(df)"
   ]
  },
  {
   "cell_type": "code",
   "execution_count": 6,
   "metadata": {},
   "outputs": [
    {
     "data": {
      "text/plain": [
       "Variable of\n",
       "size: (26, 2)\n",
       "sign: Convex.NoSign()\n",
       "vexity: Convex.AffineVexity()"
      ]
     },
     "execution_count": 6,
     "metadata": {},
     "output_type": "execute_result"
    }
   ],
   "source": [
    "# Create our variables\n",
    "N = nrow(df)\n",
    "x = Variable((N,_run_groups), :Bin) #Class allocation variable"
   ]
  },
  {
   "cell_type": "code",
   "execution_count": 7,
   "metadata": {},
   "outputs": [],
   "source": [
    "#Each class must be in exactly 1 run group\n",
    "constr=sum(x,2).==1;"
   ]
  },
  {
   "cell_type": "code",
   "execution_count": 8,
   "metadata": {},
   "outputs": [],
   "source": [
    "#split novice subgroups, only one novice group per run group\n",
    "constr+=let ind=map(x->x[1]=='N',df[:Class]) |> find\n",
    "    [sum(x[ind,:],1).==1]\n",
    "end;"
   ]
  },
  {
   "cell_type": "code",
   "execution_count": 9,
   "metadata": {},
   "outputs": [
    {
     "name": "stdout",
     "output_type": "stream",
     "text": [
      "Combining FS,HS,GS,DS,CS due to <= 4 drivers\n",
      "Combining ASP,SSC,STX,STU,DM,EM,SSM,V,CAM-S,STH,CAM-T,X,STS,SSP due to <= 4 drivers\n"
     ]
    }
   ],
   "source": [
    "#keep Combined classes together if necessary\n",
    "constr+=let ind=[any(d[:Class].==c1_list) && d[:Drivers] <= _max_to_bump for d in eachrow(df)] |> find\n",
    "    \"Combining $(join(df[ind,:Class],',')) due to <= $_max_to_bump drivers\" |> println\n",
    "    [x[ind[1:end-1],run_group].==x[ind[2:end],run_group] for run_group=1:_run_groups]\n",
    "end\n",
    "constr+=let ind=[!any(d[:Class].==c1_list) && d[:Drivers] <= _max_to_bump for d in eachrow(df)] |> find\n",
    "    \"Combining $(join(df[ind,:Class],',')) due to <= $_max_to_bump drivers\" |> println\n",
    "    [x[ind[1:end-1],run_group].==x[ind[2:end],run_group] for run_group=1:_run_groups]\n",
    "end;"
   ]
  },
  {
   "cell_type": "code",
   "execution_count": 10,
   "metadata": {},
   "outputs": [],
   "source": [
    "#Split Pro & Z\n",
    "constr+=let ind=[any(d[:Class].==[\"P\",\"Z\"]) for d in eachrow(df)] |> find\n",
    "    sum(x[ind,:],1).<=1\n",
    "end;"
   ]
  },
  {
   "cell_type": "code",
   "execution_count": 11,
   "metadata": {},
   "outputs": [
    {
     "data": {
      "text/plain": [
       "AbstractExpr with\n",
       "head: reshape\n",
       "size: (2, 1)\n",
       "sign: Convex.NoSign()\n",
       "vexity: Convex.AffineVexity()\n"
      ]
     },
     "execution_count": 11,
     "metadata": {},
     "output_type": "execute_result"
    }
   ],
   "source": [
    "#Expressions that can be used in the optimizer\n",
    "rungroup_workers=sum(x.*df[:Workers],1) |> vec #Workers available per run group\n",
    "rungroup_drivers=sum(x.*df[:Drivers],1) |> vec #Drivers in each run group"
   ]
  },
  {
   "cell_type": "code",
   "execution_count": 12,
   "metadata": {},
   "outputs": [],
   "source": [
    "# Define the problem's optimization, under required constraints\n",
    "p=maximize(minimum(rungroup_workers),constr);  #Maximize, the Minimum # of workers in a run group"
   ]
  },
  {
   "cell_type": "code",
   "execution_count": 13,
   "metadata": {},
   "outputs": [
    {
     "name": "stderr",
     "output_type": "stream",
     "text": [
      "\u001b[1m\u001b[33mWARNING: \u001b[39m\u001b[22m\u001b[33mArray(::Type{T}, m::Int) where T is deprecated, use Array{T}(m) instead.\u001b[39m\n",
      "Stacktrace:\n",
      " [1] \u001b[1mdepwarn\u001b[22m\u001b[22m\u001b[1m(\u001b[22m\u001b[22m::String, ::Symbol\u001b[1m)\u001b[22m\u001b[22m at \u001b[1m.\\deprecated.jl:70\u001b[22m\u001b[22m\n",
      " [2] \u001b[1mArray\u001b[22m\u001b[22m\u001b[1m(\u001b[22m\u001b[22m::Type{Int64}, ::Int64\u001b[1m)\u001b[22m\u001b[22m at \u001b[1m.\\deprecated.jl:57\u001b[22m\u001b[22m\n",
      " [3] \u001b[1mconic_form!\u001b[22m\u001b[22m\u001b[1m(\u001b[22m\u001b[22m::Convex.IndexAtom, ::Convex.UniqueConicForms\u001b[1m)\u001b[22m\u001b[22m at \u001b[1mC:\\Users\\dberge\\.julia\\v0.6\\Convex\\src\\atoms/affine\\index.jl:57\u001b[22m\u001b[22m\n",
      " [4] \u001b[1mconic_form!\u001b[22m\u001b[22m\u001b[1m(\u001b[22m\u001b[22m::Convex.MultiplyAtom, ::Convex.UniqueConicForms\u001b[1m)\u001b[22m\u001b[22m at \u001b[1mC:\\Users\\dberge\\.julia\\v0.6\\Convex\\src\\atoms/affine\\multiply_divide.jl:85\u001b[22m\u001b[22m\n",
      " [5] \u001b[1mconic_form!\u001b[22m\u001b[22m\u001b[1m(\u001b[22m\u001b[22m::Convex.AdditionAtom, ::Convex.UniqueConicForms\u001b[1m)\u001b[22m\u001b[22m at \u001b[1mC:\\Users\\dberge\\.julia\\v0.6\\Convex\\src\\atoms/affine\\add_subtract.jl:108\u001b[22m\u001b[22m\n",
      " [6] \u001b[1mconic_form!\u001b[22m\u001b[22m\u001b[1m(\u001b[22m\u001b[22m::Convex.EqConstraint, ::Convex.UniqueConicForms\u001b[1m)\u001b[22m\u001b[22m at \u001b[1mC:\\Users\\dberge\\.julia\\v0.6\\Convex\\src\\constraints\\constraints.jl:43\u001b[22m\u001b[22m\n",
      " [7] \u001b[1mconic_form!\u001b[22m\u001b[22m\u001b[1m(\u001b[22m\u001b[22m::Convex.Problem, ::Convex.UniqueConicForms\u001b[1m)\u001b[22m\u001b[22m at \u001b[1mC:\\Users\\dberge\\.julia\\v0.6\\Convex\\src\\problems.jl:101\u001b[22m\u001b[22m\n",
      " [8] \u001b[1mconic_problem\u001b[22m\u001b[22m\u001b[1m(\u001b[22m\u001b[22m::Convex.Problem\u001b[1m)\u001b[22m\u001b[22m at \u001b[1mC:\\Users\\dberge\\.julia\\v0.6\\Convex\\src\\problems.jl:124\u001b[22m\u001b[22m\n",
      " [9] \u001b[1m#solve!#25\u001b[22m\u001b[22m\u001b[1m(\u001b[22m\u001b[22m::Bool, ::Bool, ::Bool, ::Function, ::Convex.Problem\u001b[1m)\u001b[22m\u001b[22m at \u001b[1mC:\\Users\\dberge\\.julia\\v0.6\\Convex\\src\\solution.jl:25\u001b[22m\u001b[22m\n",
      " [10] \u001b[1m#solve!#24\u001b[22m\u001b[22m\u001b[1m(\u001b[22m\u001b[22m::Array{Any,1}, ::Function, ::Convex.Problem, ::GLPKMathProgInterface.GLPKInterfaceMIP.GLPKSolverMIP\u001b[1m)\u001b[22m\u001b[22m at \u001b[1mC:\\Users\\dberge\\.julia\\v0.6\\Convex\\src\\solution.jl:13\u001b[22m\u001b[22m\n",
      " [11] \u001b[1msolve!\u001b[22m\u001b[22m\u001b[1m(\u001b[22m\u001b[22m::Convex.Problem, ::GLPKMathProgInterface.GLPKInterfaceMIP.GLPKSolverMIP\u001b[1m)\u001b[22m\u001b[22m at \u001b[1mC:\\Users\\dberge\\.julia\\v0.6\\Convex\\src\\solution.jl:12\u001b[22m\u001b[22m\n",
      " [12] \u001b[1minclude_string\u001b[22m\u001b[22m\u001b[1m(\u001b[22m\u001b[22m::String, ::String\u001b[1m)\u001b[22m\u001b[22m at \u001b[1m.\\loading.jl:522\u001b[22m\u001b[22m\n",
      " [13] \u001b[1minclude_string\u001b[22m\u001b[22m\u001b[1m(\u001b[22m\u001b[22m::Module, ::String, ::String\u001b[1m)\u001b[22m\u001b[22m at \u001b[1mC:\\Users\\dberge\\.julia\\v0.6\\Compat\\src\\Compat.jl:71\u001b[22m\u001b[22m\n",
      " [14] \u001b[1mexecute_request\u001b[22m\u001b[22m\u001b[1m(\u001b[22m\u001b[22m::ZMQ.Socket, ::IJulia.Msg\u001b[1m)\u001b[22m\u001b[22m at \u001b[1mC:\\Users\\dberge\\.julia\\v0.6\\IJulia\\src\\execute_request.jl:158\u001b[22m\u001b[22m\n",
      " [15] \u001b[1m(::Compat.#inner#17{Array{Any,1},IJulia.#execute_request,Tuple{ZMQ.Socket,IJulia.Msg}})\u001b[22m\u001b[22m\u001b[1m(\u001b[22m\u001b[22m\u001b[1m)\u001b[22m\u001b[22m at \u001b[1mC:\\Users\\dberge\\.julia\\v0.6\\Compat\\src\\Compat.jl:385\u001b[22m\u001b[22m\n",
      " [16] \u001b[1meventloop\u001b[22m\u001b[22m\u001b[1m(\u001b[22m\u001b[22m::ZMQ.Socket\u001b[1m)\u001b[22m\u001b[22m at \u001b[1mC:\\Users\\dberge\\.julia\\v0.6\\IJulia\\src\\eventloop.jl:8\u001b[22m\u001b[22m\n",
      " [17] \u001b[1m(::IJulia.##14#17)\u001b[22m\u001b[22m\u001b[1m(\u001b[22m\u001b[22m\u001b[1m)\u001b[22m\u001b[22m at \u001b[1m.\\task.jl:335\u001b[22m\u001b[22m\n",
      "while loading In[13], in expression starting on line 1\n"
     ]
    }
   ],
   "source": [
    "solve!(p, GLPKSolverMIP()); # Ignore the deprecation warning"
   ]
  },
  {
   "cell_type": "code",
   "execution_count": 14,
   "metadata": {},
   "outputs": [
    {
     "data": {
      "text/plain": [
       ":Optimal"
      ]
     },
     "execution_count": 14,
     "metadata": {},
     "output_type": "execute_result"
    }
   ],
   "source": [
    "#What is the status of the solutioin\n",
    "p.status"
   ]
  },
  {
   "cell_type": "code",
   "execution_count": 15,
   "metadata": {},
   "outputs": [
    {
     "name": "stdout",
     "output_type": "stream",
     "text": [
      "Run group #1 has 67 drivers\n",
      "Run group #2 has 72 drivers\n"
     ]
    }
   ],
   "source": [
    "let drivers=evaluate(rungroup_drivers)\n",
    "    for i=1:length(drivers)\n",
    "        println(\"Run group #$i has $(Integer(drivers[i])) drivers\")\n",
    "    end\n",
    "end"
   ]
  },
  {
   "cell_type": "code",
   "execution_count": 16,
   "metadata": {},
   "outputs": [
    {
     "name": "stdout",
     "output_type": "stream",
     "text": [
      "Run group #1 has 59 workers\n",
      "Run group #2 has 57 workers\n"
     ]
    }
   ],
   "source": [
    "let drivers=evaluate(rungroup_workers)\n",
    "    for i=1:length(drivers)\n",
    "        println(\"Run group #$i has $(Integer(drivers[i])) workers\")\n",
    "    end\n",
    "end"
   ]
  },
  {
   "cell_type": "code",
   "execution_count": 17,
   "metadata": {},
   "outputs": [
    {
     "name": "stdout",
     "output_type": "stream",
     "text": [
      "Run group #1 has 8 exempt workers\n",
      "Run group #2 has 15 exempt workers\n"
     ]
    }
   ],
   "source": [
    "let drivers=evaluate(rungroup_drivers .- rungroup_workers)\n",
    "    for i=1:length(drivers)\n",
    "        println(\"Run group #$i has $(Integer(drivers[i])) exempt workers\")\n",
    "    end\n",
    "end"
   ]
  },
  {
   "cell_type": "code",
   "execution_count": 18,
   "metadata": {},
   "outputs": [
    {
     "name": "stdout",
     "output_type": "stream",
     "text": [
      "Run group #1:\n",
      "Z\n",
      "FS\n",
      "HS\n",
      "ES\n",
      "GS\n",
      "DS\n",
      "SMF\n",
      "CS\n",
      "N2\n"
     ]
    }
   ],
   "source": [
    "println(\"Run group #1:\")\n",
    "println.(df[:Class][evaluate(x)[:,1].>0.0]);"
   ]
  },
  {
   "cell_type": "code",
   "execution_count": 19,
   "metadata": {},
   "outputs": [
    {
     "name": "stdout",
     "output_type": "stream",
     "text": [
      "Run Group #2:\n",
      "P\n",
      "BS\n",
      "ASP\n",
      "SSC\n",
      "STX\n",
      "STU\n",
      "DM\n",
      "EM\n",
      "SSM\n",
      "V\n",
      "CAM-S\n",
      "STH\n",
      "CAM-T\n",
      "X\n",
      "STS\n",
      "SSP\n",
      "N1\n"
     ]
    }
   ],
   "source": [
    "println(\"Run Group #2:\")\n",
    "println.(df[:Class][evaluate(x)[:,2].>0.0]);"
   ]
  }
 ],
 "metadata": {
  "kernelspec": {
   "display_name": "Julia 0.6.2",
   "language": "julia",
   "name": "julia-0.6"
  },
  "language_info": {
   "file_extension": ".jl",
   "mimetype": "application/julia",
   "name": "julia",
   "version": "0.6.2"
  }
 },
 "nbformat": 4,
 "nbformat_minor": 2
}
