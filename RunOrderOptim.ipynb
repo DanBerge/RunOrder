{
 "cells": [
  {
   "cell_type": "code",
   "execution_count": 1,
   "metadata": {},
   "outputs": [
    {
     "data": {
      "text/plain": [
       "distribute_int (generic function with 1 method)"
      ]
     },
     "execution_count": 1,
     "metadata": {},
     "output_type": "execute_result"
    }
   ],
   "source": [
    "using DataFrames, CSV, Query\n",
    "using JuMP, Cbc\n",
    "\n",
    "fn = \"MOWOG1entries.csv\"\n",
    "c1_list=[\"AS\", \"BS\", \"CS\", \"DS\", \"ES\", \"FS\", \"GS\", \"HS\",\"SS\",\"SSR\"]\n",
    "_run_groups = 2\n",
    "_min_to_bump = 4\n",
    "\n",
    "#Distribute an integer over N rational parts\n",
    "#@assert distribute_int(10,3)==[4,3,3]\n",
    "function distribute_int(a::T,n::T) where {T<:Integer}\n",
    "    (num,den) = divrem(a,n)\n",
    "    [ifelse(i<=den,num+1,num) for i=1:n]\n",
    "end"
   ]
  },
  {
   "cell_type": "code",
   "execution_count": 2,
   "metadata": {},
   "outputs": [
    {
     "data": {
      "text/html": [
       "<table class=\"data-frame\"><thead><tr><th></th><th>LastName</th><th>FirstName</th><th>Class</th><th>Group</th><th>Year</th><th>Make</th><th>Model</th><th>Index</th><th>IndexClass</th></tr></thead><tbody><tr><th>1</th><td>Agosto</td><td>Andrew</td><td>GS</td><td>missing</td><td>2013</td><td>Ford</td><td>Focus ST</td><td>Z</td><td>Z</td></tr><tr><th>2</th><td>Anderson</td><td>Dwight</td><td>HS</td><td>missing</td><td>2015</td><td>Ford</td><td>Fiesta ST</td><td>Z</td><td>Z</td></tr><tr><th>3</th><td>Austin</td><td>Ivan</td><td>ES</td><td>missing</td><td>2004</td><td>Toyota</td><td>MR2</td><td>P</td><td>P</td></tr><tr><th>4</th><td>Bahl</td><td>Dave</td><td>BS</td><td>missing</td><td>1992</td><td>Chevrolet</td><td>Corvette</td><td>missing</td><td>BS</td></tr><tr><th>5</th><td>Barber</td><td>Adam</td><td>STS</td><td>missing</td><td>1988</td><td>Honda</td><td>CRX</td><td>P</td><td>P</td></tr><tr><th>6</th><td>Barclay</td><td>Aaron</td><td>N</td><td>missing</td><td>1996</td><td>Lexus</td><td>sc400</td><td>missing</td><td>N</td></tr><tr><th>7</th><td>Barclay</td><td>Chad</td><td>FS</td><td>missing</td><td>2010</td><td>Infiniti</td><td>G37xS</td><td>missing</td><td>FS</td></tr><tr><th>8</th><td>Baumbach</td><td>Drew</td><td>ASP</td><td>missing</td><td>2009</td><td>Porsche</td><td>Cayman S</td><td>missing</td><td>ASP</td></tr><tr><th>9</th><td>Beck</td><td>Robert</td><td>N</td><td>missing</td><td>2016</td><td>BMW</td><td>m235i</td><td>missing</td><td>N</td></tr><tr><th>10</th><td>Bedell</td><td>Jody</td><td>SSC</td><td>missing</td><td>2015</td><td>Scion</td><td>FR-S</td><td>Z</td><td>Z</td></tr><tr><th>11</th><td>Bedell</td><td>Nicholas</td><td>SSC</td><td>missing</td><td>2013</td><td>Scion</td><td>FR-S</td><td>missing</td><td>SSC</td></tr><tr><th>12</th><td>Bell</td><td>Sean</td><td>N</td><td>missing</td><td>2017</td><td>Audi</td><td>A4 Quattro</td><td>missing</td><td>N</td></tr><tr><th>13</th><td>Berge</td><td>Daniel</td><td>DS</td><td>missing</td><td>2015</td><td>Scion</td><td>FR-S</td><td>Z</td><td>Z</td></tr><tr><th>14</th><td>Bergsgaard</td><td>Bob</td><td>STX</td><td>missing</td><td>1998</td><td>BMW</td><td>328is</td><td>missing</td><td>STX</td></tr><tr><th>15</th><td>Berndt</td><td>Kevin</td><td>ES</td><td>missing</td><td>1999</td><td>Mazda</td><td>Miata</td><td>P</td><td>P</td></tr><tr><th>16</th><td>Binkert</td><td>Conner</td><td>N</td><td>missing</td><td>2015</td><td>Ford</td><td>Fiesta ST</td><td>missing</td><td>N</td></tr><tr><th>17</th><td>Braun</td><td>Dustin</td><td>STU</td><td>missing</td><td>2004</td><td>Mazda</td><td>Mazdaspeed Miata</td><td>missing</td><td>STU</td></tr><tr><th>18</th><td>Braun</td><td>Thomas</td><td>STU</td><td>missing</td><td>2004</td><td>Mazda</td><td>Mazdaspeed Miata</td><td>missing</td><td>STU</td></tr><tr><th>19</th><td>Brezinka</td><td>Eric</td><td>BS</td><td>missing</td><td>2014</td><td>Subaru</td><td>WRX STi</td><td>missing</td><td>BS</td></tr><tr><th>20</th><td>Brooke</td><td>Darren</td><td>BS</td><td>missing</td><td>2002</td><td>Honda</td><td>S2000</td><td>missing</td><td>BS</td></tr><tr><th>21</th><td>Brown</td><td>Joe</td><td>BS</td><td>missing</td><td>2015</td><td>Subaru</td><td>STi</td><td>Z</td><td>Z</td></tr><tr><th>22</th><td>Buetow</td><td>Steven</td><td>DM</td><td>missing</td><td>2000</td><td>Birkin</td><td>S-3</td><td>missing</td><td>DM</td></tr><tr><th>23</th><td>Butz</td><td>Ryan</td><td>EM</td><td>missing</td><td>2018</td><td>Exomotive</td><td>Exocet</td><td>missing</td><td>EM</td></tr><tr><th>24</th><td>Chafee</td><td>Matthew</td><td>GS</td><td>missing</td><td>2014</td><td>Ford</td><td>Focus ST</td><td>Z</td><td>Z</td></tr><tr><th>25</th><td>Chetrit</td><td>Aviv</td><td>N</td><td>missing</td><td>2014</td><td>Ford</td><td>Focus ST</td><td>missing</td><td>N</td></tr><tr><th>26</th><td>Cox</td><td>Joel</td><td>AS</td><td>missing</td><td>2016</td><td>Chevrolet</td><td>Corvette Stingray</td><td>Z</td><td>Z</td></tr><tr><th>27</th><td>Crumb</td><td>Kim John</td><td>STX</td><td>missing</td><td>2004</td><td>BMW</td><td>330ci</td><td>missing</td><td>STX</td></tr><tr><th>28</th><td>D'Cruz</td><td>Charles</td><td>EM</td><td>missing</td><td>2017</td><td>Exomotive</td><td>Exocet</td><td>missing</td><td>EM</td></tr><tr><th>29</th><td>Davis</td><td>Tim</td><td>KM</td><td>missing</td><td>2006</td><td>Intrepid</td><td>Silverstone</td><td>P</td><td>P</td></tr><tr><th>30</th><td>DeBoer</td><td>John</td><td>STS</td><td>missing</td><td>1990</td><td>Mazda</td><td>Miata</td><td>Z</td><td>Z</td></tr><tr><th>&vellip;</th><td>&vellip;</td><td>&vellip;</td><td>&vellip;</td><td>&vellip;</td><td>&vellip;</td><td>&vellip;</td><td>&vellip;</td><td>&vellip;</td><td>&vellip;</td></tr></tbody></table>"
      ],
      "text/plain": [
       "139×9 DataFrames.DataFrame. Omitted printing of 3 columns\n",
       "│ Row │ LastName      │ FirstName │ Class │ Group   │ Year │ Make       │\n",
       "├─────┼───────────────┼───────────┼───────┼─────────┼──────┼────────────┤\n",
       "│ 1   │ Agosto        │ Andrew    │ GS    │ \u001b[90mmissing\u001b[39m │ 2013 │ Ford       │\n",
       "│ 2   │ Anderson      │ Dwight    │ HS    │ \u001b[90mmissing\u001b[39m │ 2015 │ Ford       │\n",
       "│ 3   │ Austin        │ Ivan      │ ES    │ \u001b[90mmissing\u001b[39m │ 2004 │ Toyota     │\n",
       "│ 4   │ Bahl          │ Dave      │ BS    │ \u001b[90mmissing\u001b[39m │ 1992 │ Chevrolet  │\n",
       "│ 5   │ Barber        │ Adam      │ STS   │ \u001b[90mmissing\u001b[39m │ 1988 │ Honda      │\n",
       "│ 6   │ Barclay       │ Aaron     │ N     │ \u001b[90mmissing\u001b[39m │ 1996 │ Lexus      │\n",
       "│ 7   │ Barclay       │ Chad      │ FS    │ \u001b[90mmissing\u001b[39m │ 2010 │ Infiniti   │\n",
       "│ 8   │ Baumbach      │ Drew      │ ASP   │ \u001b[90mmissing\u001b[39m │ 2009 │ Porsche    │\n",
       "│ 9   │ Beck          │ Robert    │ N     │ \u001b[90mmissing\u001b[39m │ 2016 │ BMW        │\n",
       "│ 10  │ Bedell        │ Jody      │ SSC   │ \u001b[90mmissing\u001b[39m │ 2015 │ Scion      │\n",
       "│ 11  │ Bedell        │ Nicholas  │ SSC   │ \u001b[90mmissing\u001b[39m │ 2013 │ Scion      │\n",
       "⋮\n",
       "│ 128 │ Thompson      │ Ryan      │ GS    │ \u001b[90mmissing\u001b[39m │ 2016 │ Ford       │\n",
       "│ 129 │ Tyrpa         │ Jerry     │ N     │ \u001b[90mmissing\u001b[39m │ 2000 │ Ford       │\n",
       "│ 130 │ Vang          │ Sou       │ CS    │ \u001b[90mmissing\u001b[39m │ 2013 │ Mazda      │\n",
       "│ 131 │ Waich         │ Matthew   │ STS   │ \u001b[90mmissing\u001b[39m │ 1989 │ Honda      │\n",
       "│ 132 │ Waich         │ Michael   │ STS   │ \u001b[90mmissing\u001b[39m │ 1989 │ Honda      │\n",
       "│ 133 │ Watkins       │ Gary      │ N     │ \u001b[90mmissing\u001b[39m │ 2014 │ Ford       │\n",
       "│ 134 │ Weibel        │ Alex      │ N     │ \u001b[90mmissing\u001b[39m │ 2005 │ Dodge      │\n",
       "│ 135 │ Weigel        │ Andy      │ CAM-T │ \u001b[90mmissing\u001b[39m │ 1968 │ Ford       │\n",
       "│ 136 │ Whitney       │ Tom       │ N     │ \u001b[90mmissing\u001b[39m │ 2016 │ Volkswagen │\n",
       "│ 137 │ Williams      │ Randy     │ HS    │ \u001b[90mmissing\u001b[39m │ 2017 │ Ford       │\n",
       "│ 138 │ Wojciechowski │ Justin    │ N     │ \u001b[90mmissing\u001b[39m │ 2015 │ Ford       │\n",
       "│ 139 │ Zeller        │ John      │ STR   │ \u001b[90mmissing\u001b[39m │ 2017 │ Mazda      │"
      ]
     },
     "execution_count": 2,
     "metadata": {},
     "output_type": "execute_result"
    }
   ],
   "source": [
    "df=CSV.read(fn); #Read the CSV to a DataFrame\n",
    "rename!(df, Symbol(\"Modifier/PAX\") => :Index)\n",
    "rename!(df, Symbol(\"First Name\")=> :FirstName)\n",
    "rename!(df, Symbol(\"Last Name\")=> :LastName)\n",
    "delete!(df, Symbol(\"Segment Name\"))\n",
    "df[:IndexClass]=map(x-> ismissing(x[:Index]) ? x[:Class] |> String : x[:Index] |> String, eachrow(df))\n",
    "df"
   ]
  },
  {
   "cell_type": "code",
   "execution_count": 3,
   "metadata": {},
   "outputs": [
    {
     "data": {
      "text/plain": [
       "Dict{String,Int64} with 26 entries:\n",
       "  \"Z\"     => 30\n",
       "  \"STX\"   => 2\n",
       "  \"ES\"    => 5\n",
       "  \"SSP\"   => 1\n",
       "  \"SSC\"   => 2\n",
       "  \"P\"     => 21\n",
       "  \"N1\"    => 15\n",
       "  \"V\"     => 3\n",
       "  \"N2\"    => 14\n",
       "  \"SMF\"   => 5\n",
       "  \"DS\"    => 4\n",
       "  \"CS\"    => 3\n",
       "  \"CAM-S\" => 3\n",
       "  \"STU\"   => 2\n",
       "  \"ASP\"   => 1\n",
       "  \"SSM\"   => 3\n",
       "  \"HS\"    => 4\n",
       "  \"X\"     => 2\n",
       "  \"STS\"   => 2\n",
       "  \"STH\"   => 1\n",
       "  \"GS\"    => 1\n",
       "  \"DM\"    => 2\n",
       "  \"BS\"    => 7\n",
       "  \"EM\"    => 2\n",
       "  \"FS\"    => 1\n",
       "  ⋮       => ⋮"
      ]
     },
     "execution_count": 3,
     "metadata": {},
     "output_type": "execute_result"
    }
   ],
   "source": [
    "#Count up the drivers per class\n",
    "d=@from i in df begin\n",
    "    @group i by i.IndexClass into g\n",
    "    @select {Class=g.key, Count=length(g)}\n",
    "    @collect Dict\n",
    "end\n",
    "#Divide up novice class\n",
    "begin\n",
    "    for i=1:_run_groups\n",
    "        d[\"N$i\"]=distribute_int(d[\"N\"],_run_groups)[i]\n",
    "    end\n",
    "    delete!(d, \"N\")\n",
    "end\n",
    "d"
   ]
  },
  {
   "cell_type": "code",
   "execution_count": 4,
   "metadata": {},
   "outputs": [
    {
     "data": {
      "text/latex": [
       "$$ \\begin{alignat*}{1}\\min\\quad & 0\\\\\n",
       "\\text{Subject to} \\quad\\end{alignat*}\n",
       " $$"
      ],
      "text/plain": [
       "Feasibility problem with:\n",
       " * 0 linear constraints\n",
       " * 0 variables\n",
       "Solver is CbcMathProg"
      ]
     },
     "execution_count": 4,
     "metadata": {},
     "output_type": "execute_result"
    }
   ],
   "source": [
    "# Create a model\n",
    "N = length(d)\n",
    "m = Model(solver=CbcSolver())"
   ]
  },
  {
   "cell_type": "code",
   "execution_count": 5,
   "metadata": {},
   "outputs": [
    {
     "data": {
      "text/latex": [
       "$$ x_{classes,rungroup} \\in \\{0,1\\} \\quad\\forall classes \\in \\{1,2,\\dots,25,26\\}, rungroup \\in \\{1,2\\} $$"
      ],
      "text/plain": [
       "26×2 Array{JuMP.Variable,2}:\n",
       " x[1,1]   x[1,2] \n",
       " x[2,1]   x[2,2] \n",
       " x[3,1]   x[3,2] \n",
       " x[4,1]   x[4,2] \n",
       " x[5,1]   x[5,2] \n",
       " x[6,1]   x[6,2] \n",
       " x[7,1]   x[7,2] \n",
       " x[8,1]   x[8,2] \n",
       " x[9,1]   x[9,2] \n",
       " x[10,1]  x[10,2]\n",
       " x[11,1]  x[11,2]\n",
       " x[12,1]  x[12,2]\n",
       " x[13,1]  x[13,2]\n",
       " x[14,1]  x[14,2]\n",
       " x[15,1]  x[15,2]\n",
       " x[16,1]  x[16,2]\n",
       " x[17,1]  x[17,2]\n",
       " x[18,1]  x[18,2]\n",
       " x[19,1]  x[19,2]\n",
       " x[20,1]  x[20,2]\n",
       " x[21,1]  x[21,2]\n",
       " x[22,1]  x[22,2]\n",
       " x[23,1]  x[23,2]\n",
       " x[24,1]  x[24,2]\n",
       " x[25,1]  x[25,2]\n",
       " x[26,1]  x[26,2]"
      ]
     },
     "execution_count": 5,
     "metadata": {},
     "output_type": "execute_result"
    }
   ],
   "source": [
    "# Create our variables\n",
    "@variable(m, x[classes=1:N, rungroup=1:_run_groups], Bin)"
   ]
  },
  {
   "cell_type": "code",
   "execution_count": 6,
   "metadata": {},
   "outputs": [],
   "source": [
    "#each class can only be in one run group\n",
    "for class = 1:N\n",
    "    @constraint(m, sum(x[class,:]) == 1)\n",
    "end"
   ]
  },
  {
   "cell_type": "code",
   "execution_count": 7,
   "metadata": {},
   "outputs": [
    {
     "name": "stdout",
     "output_type": "stream",
     "text": [
      "Combining DS,CS,HS,GS,FS due to <= 4 drivers\n",
      "Combining STX,SSP,SSC,V,CAM-S,STU,ASP,SSM,X,STS,STH,DM,EM,CAM-T due to <= 4 drivers\n"
     ]
    }
   ],
   "source": [
    "#keep Combined classes together if necessary\n",
    "let ind=[any(key.==c1_list) && val <= _min_to_bump for (key,val) in d] |> find\n",
    "    \"Combining $(join(collect(keys(d))[ind],',')) due to <= $_min_to_bump drivers\" |> println\n",
    "    for run_group=1:_run_groups\n",
    "        @constraint(m, x[ind[1:end-1],run_group].==x[ind[2:end],run_group])\n",
    "    end\n",
    "end\n",
    "let ind=[!any(key.==c1_list) && val <= _min_to_bump for (key,val) in d] |> find\n",
    "    \"Combining $(join(collect(keys(d))[ind],',')) due to <= $_min_to_bump drivers\" |> println\n",
    "    for run_group=1:_run_groups\n",
    "        @constraint(m, x[ind[1:end-1],run_group].==x[ind[2:end],run_group])\n",
    "    end\n",
    "end"
   ]
  },
  {
   "cell_type": "code",
   "execution_count": 8,
   "metadata": {},
   "outputs": [],
   "source": [
    "#split novice classes, only one novice group per run group\n",
    "let ind=map(x->x[1]=='N',keys(d)) |> find\n",
    "    for run_group=1:_run_groups\n",
    "        @constraint(m, sum(x[ind,run_group])==1)\n",
    "    end\n",
    "end"
   ]
  },
  {
   "cell_type": "code",
   "execution_count": 9,
   "metadata": {},
   "outputs": [],
   "source": [
    "#split Pro & Z\n",
    "let ind=[any(key.==[\"P\",\"Z\"]) && val <= _min_to_bump for (key,val) in d] |> find\n",
    "    for run_group=1:_run_groups\n",
    "        @constraint(m, sum(x[ind,run_group])<=1)\n",
    "    end\n",
    "end"
   ]
  },
  {
   "cell_type": "code",
   "execution_count": 10,
   "metadata": {},
   "outputs": [
    {
     "data": {
      "text/latex": [
       "$$ 30 x_{1,1} + 2 x_{2,1} + 5 x_{3,1} + x_{4,1} + 2 x_{5,1} + 21 x_{6,1} + 15 x_{7,1} + 3 x_{8,1} + 14 x_{9,1} + 5 x_{10,1} + 4 x_{11,1} + 3 x_{12,1} + 3 x_{13,1} + 2 x_{14,1} + x_{15,1} + 3 x_{16,1} + 4 x_{17,1} + 2 x_{18,1} + 2 x_{19,1} + x_{20,1} + x_{21,1} + 2 x_{22,1} + 7 x_{23,1} + 2 x_{24,1} + x_{25,1} + 3 x_{26,1} $$"
      ],
      "text/plain": [
       "30 x[1,1] + 2 x[2,1] + 5 x[3,1] + x[4,1] + 2 x[5,1] + 21 x[6,1] + 15 x[7,1] + 3 x[8,1] + 14 x[9,1] + 5 x[10,1] + 4 x[11,1] + 3 x[12,1] + 3 x[13,1] + 2 x[14,1] + x[15,1] + 3 x[16,1] + 4 x[17,1] + 2 x[18,1] + 2 x[19,1] + x[20,1] + x[21,1] + 2 x[22,1] + 7 x[23,1] + 2 x[24,1] + x[25,1] + 3 x[26,1]"
      ]
     },
     "execution_count": 10,
     "metadata": {},
     "output_type": "execute_result"
    }
   ],
   "source": [
    "#Sum the drivers per run group to a vector\n",
    "@expression(m, drive_count[i=1:_run_groups], sum(x[:,i].*collect(values(d))))\n",
    "#Constraint so that group1>=group>=group3, etc...\n",
    "for i=1:_run_groups-1\n",
    "    @constraint(m, drive_count[i]>=drive_count[i+1])\n",
    "end\n",
    "#Objective to minimize the size of Group1, which means Group2,3,etc. have to accumulate classes\n",
    "@objective(m, Min, drive_count[1])"
   ]
  },
  {
   "cell_type": "code",
   "execution_count": 11,
   "metadata": {},
   "outputs": [
    {
     "name": "stdout",
     "output_type": "stream",
     "text": [
      "Minimization problem with:\n",
      " * 65 linear constraints\n",
      " * 52 variables: 52 binary\n",
      "Solver is CbcMathProg"
     ]
    }
   ],
   "source": [
    "# Short description of the problem complexity\n",
    "show(m)"
   ]
  },
  {
   "cell_type": "code",
   "execution_count": 12,
   "metadata": {},
   "outputs": [
    {
     "data": {
      "text/plain": [
       ":Optimal"
      ]
     },
     "execution_count": 12,
     "metadata": {},
     "output_type": "execute_result"
    }
   ],
   "source": [
    "status=solve(m)"
   ]
  },
  {
   "cell_type": "code",
   "execution_count": 16,
   "metadata": {},
   "outputs": [
    {
     "name": "stdout",
     "output_type": "stream",
     "text": [
      "Run group #1 has 70 drivers\n",
      "Run group #2 has 69 drivers\n"
     ]
    }
   ],
   "source": [
    "let drivers=getvalue(drive_count)\n",
    "    for i=1:length(drivers)\n",
    "        println(\"Run group #$i has $(Integer(drivers[i])) drivers\")\n",
    "    end\n",
    "end"
   ]
  },
  {
   "cell_type": "code",
   "execution_count": 14,
   "metadata": {},
   "outputs": [
    {
     "data": {
      "text/plain": [
       "9-element Array{String,1}:\n",
       " \"Z\" \n",
       " \"ES\"\n",
       " \"N1\"\n",
       " \"DS\"\n",
       " \"CS\"\n",
       " \"HS\"\n",
       " \"GS\"\n",
       " \"BS\"\n",
       " \"FS\""
      ]
     },
     "execution_count": 14,
     "metadata": {},
     "output_type": "execute_result"
    }
   ],
   "source": [
    "#run group 1\n",
    "collect(keys(d))[getvalue(x[:,1]).>0.0]"
   ]
  },
  {
   "cell_type": "code",
   "execution_count": 15,
   "metadata": {},
   "outputs": [
    {
     "data": {
      "text/plain": [
       "17-element Array{String,1}:\n",
       " \"STX\"  \n",
       " \"SSP\"  \n",
       " \"SSC\"  \n",
       " \"P\"    \n",
       " \"V\"    \n",
       " \"N2\"   \n",
       " \"SMF\"  \n",
       " \"CAM-S\"\n",
       " \"STU\"  \n",
       " \"ASP\"  \n",
       " \"SSM\"  \n",
       " \"X\"    \n",
       " \"STS\"  \n",
       " \"STH\"  \n",
       " \"DM\"   \n",
       " \"EM\"   \n",
       " \"CAM-T\""
      ]
     },
     "execution_count": 15,
     "metadata": {},
     "output_type": "execute_result"
    }
   ],
   "source": [
    "# run group 2\n",
    "collect(keys(d))[getvalue(x[:,2]).>0.0]"
   ]
  }
 ],
 "metadata": {
  "kernelspec": {
   "display_name": "Julia 0.6.2",
   "language": "julia",
   "name": "julia-0.6"
  },
  "language_info": {
   "file_extension": ".jl",
   "mimetype": "application/julia",
   "name": "julia",
   "version": "0.6.2"
  }
 },
 "nbformat": 4,
 "nbformat_minor": 2
}
